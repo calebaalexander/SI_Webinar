{
 "metadata": {
  "language_info": {
   "name": "python"
  },
  "lastEditStatus": {
   "notebookId": "3rkp4kkbva5qaofa74vz",
   "authorId": "3161816716563",
   "authorName": "CALEXANDER",
   "authorEmail": "caleb.alexander@snowflake.com",
   "sessionId": "25cfb45a-3004-4ee3-986c-5f6348d5ce83",
   "lastEditTime": 1760530048056
  }
 },
 "nbformat_minor": 2,
 "nbformat": 4,
 "cells": [
  {
   "cell_type": "markdown",
   "metadata": {
    "name": "cell1",
    "collapsed": false
   },
   "source": "# PawCore Intelligence Analysis: Solving the Regional Revenue Mystery\n\n## Executive Business Intelligence with Snowflake AI Functions\nThis notebook demonstrates how to use Snowflake's AI SQL functions to transform a complex business crisis into actionable strategic intelligence. **The Challenge**: One region experienced a 40% revenue drop in Q4 2024 while other regions remained stable.\n\n**Data Sources:**\n- **Structured Data**: Device telemetry, quality logs, customer reviews, internal communications\n- **Unstructured Data**: Quality control standards, technical documentation, multimedia content\n- **Business Context**: 199 dollar device price, 450 dollar customer lifetime value, 3 global markets across different climates\n\n# Strategic AI SQL Functions Analysis\n\n## 1. Quality Gap Discovery (AI_EXTRACT)\n**Business Purpose**: Uncover systematic quality control failures in documentation  \n**Strategic Use Case**: Identify why products pass QC but fail in real-world conditions  \n**Intelligence Focus**: Environmental testing gaps that correlate with regional climate differences  \n**Executive Output**: Precise identification of \"optional humidity testing\" as systematic failure point\n\n## 2. Customer Impact Quantification (AI_SENTIMENT)\n**Business Purpose**: Transform customer feedback into measurable business impact  \n**Strategic Use Case**: Correlate sentiment patterns with specific product lots and regions  \n**Intelligence Focus**: Multi-dimensional sentiment analysis revealing 90% negative sentiment in problem region  \n**Executive Output**: Clear connection between LOT341, humidity failures, and customer dissatisfaction\n\n## 3. Issue Categorization & Pattern Recognition (AI_CLASSIFY)\n**Business Purpose**: Automatically categorize customer complaints into specific problem types  \n**Strategic Use Case**: Identify dominant failure patterns across negative reviews  \n**Intelligence Focus**: Classification reveals moisture problems as the primary issue category in EMEA  \n**Executive Output**: Systematic identification of moisture-related failures as the root cause of negative sentiment\n\n## 4. Financial Impact Modeling (AI_COMPLETE)\n**Business Purpose**: Generate board-ready financial impact analysis and strategic recommendations  \n**Strategic Use Case**: Convert customer sentiment metrics into precise revenue impact predictions  \n**Intelligence Focus**: Region-specific financial modeling with immediate action plans  \n**Executive Output**: 130K dollar crisis quantification with 418K dollar growth opportunity identification",
   "id": "ce110000-1111-2222-3333-ffffff000000"
  },
  {
   "cell_type": "code",
   "execution_count": null,
   "metadata": {
    "vscode": {
     "languageId": "sql"
    },
    "name": "cell2",
    "language": "sql"
   },
   "outputs": [],
   "source": "-- Set up our environment\nUSE ROLE accountadmin;\nUSE WAREHOUSE PAWCORE_DEMO_WH;\nUSE DATABASE PAWCORE_ANALYTICS;\nUSE SCHEMA SEMANTIC;",
   "id": "ce110000-1111-2222-3333-ffffff000001"
  },
  {
   "cell_type": "code",
   "id": "2ed3fd83-162c-4b12-b99d-222a35595fc9",
   "metadata": {
    "language": "sql",
    "name": "cell9"
   },
   "outputs": [],
   "source": "-- Telemetry data (random sample)\nSELECT 'TELEMETRY' as source, device_id, lot_number, battery_level, humidity_reading, region, timestamp::date as date\nFROM DEVICE_DATA.TELEMETRY \nORDER BY RANDOM()\nLIMIT 5;",
   "execution_count": null
  },
  {
   "cell_type": "code",
   "id": "8c56fa41-6e8d-4f24-9c96-e81e20ac44e7",
   "metadata": {
    "language": "sql",
    "name": "cell10"
   },
   "outputs": [],
   "source": "-- Slack messages (random sample)\nSELECT 'SLACK_MESSAGES' as source, slack_channel, user_name, text, thread_id\nFROM SUPPORT.SLACK_MESSAGES \nORDER BY RANDOM()\nLIMIT 10;",
   "execution_count": null
  },
  {
   "cell_type": "code",
   "id": "da16b0f8-6755-473a-9f8e-f60708a51611",
   "metadata": {
    "language": "sql",
    "name": "cell11"
   },
   "outputs": [],
   "source": "-- Random sample of parsed document content\nSELECT \n    relative_path,\n    file_name,\n    LENGTH(content) as content_length,\n    LEFT(content, 200) || '...' as content_preview\nFROM UNSTRUCTURED.PARSED_CONTENT\nORDER BY RANDOM()\nLIMIT 5;",
   "execution_count": null
  },
  {
   "cell_type": "code",
   "id": "92cf57f3-ce21-4bc7-9ce1-af9e42123372",
   "metadata": {
    "language": "python",
    "name": "cell12"
   },
   "outputs": [],
   "source": "# Resume Image: Technical Wrong Focus Resume\nimport warnings, base64, mimetypes, streamlit as st\nfrom snowflake.snowpark.context import get_active_session\n\nwarnings.filterwarnings(\"ignore\")\nsession = get_active_session()\n\ntry:\n    # Read resume image directly from stage\n    stage_path = \"@PAWCORE_ANALYTICS.SEMANTIC.PAWCORE_DATA_STAGE/HR/resume_technical_wrong_focus-1.png\"\n    img_bytes = session.file.get_stream(stage_path, decompress=False).read()\n    \n    # Guess MIME type from extension\n    mime, _ = mimetypes.guess_type(\"resume_technical_wrong_focus-1.png\")\n    mime = mime or \"image/png\"\n    \n    # Convert to base64 and display\n    b64 = base64.b64encode(img_bytes).decode(\"utf-8\")\n    st.title(\"Resume Example\")\n    st.markdown(f'<img src=\"data:{mime};base64,{b64}\" alt=\"resume_technical_wrong_focus\" style=\"max-width:800px; border: 1px solid #ddd;\">',\n                unsafe_allow_html=True)\n    st.caption(\"PawCore HR: Resume\")\n    \nexcept Exception as e:\n    st.write(f\"Could not load resume image: {str(e)}\")\n    st.write(\"Checking available resume images...\")\n    \n    # Fallback: check what resume images exist\n    check_result = session.sql(\"\"\"\n        SELECT relative_path \n        FROM DIRECTORY(@PAWCORE_ANALYTICS.SEMANTIC.PAWCORE_DATA_STAGE) \n        WHERE relative_path ILIKE '%resume%' \n        AND (relative_path ILIKE '%.png' OR relative_path ILIKE '%.jpg' OR relative_path ILIKE '%.jpeg')\n    \"\"\").collect()\n    \n    if check_result:\n        st.write(\"Available resume images:\")\n        for img in check_result:\n            st.write(f\"- {img['RELATIVE_PATH']}\")\n    else:\n        st.write(\"No resume images found in stage\")",
   "execution_count": null
  },
  {
   "cell_type": "code",
   "id": "f7e732b8-9e50-4256-b33e-5552775fdee2",
   "metadata": {
    "language": "python",
    "name": "cell3"
   },
   "outputs": [],
   "source": "# Product Image: Barkour.jpg\nimport warnings, base64, mimetypes, streamlit as st\nfrom snowflake.snowpark.context import get_active_session\n\nwarnings.filterwarnings(\"ignore\")\nsession = get_active_session()\n\ntry:\n    # Read image directly from stage\n    stage_path = \"@PAWCORE_ANALYTICS.SEMANTIC.PAWCORE_DATA_STAGE/images/barkour.jpg\"\n    img_bytes = session.file.get_stream(stage_path, decompress=False).read()\n    \n    # Guess MIME type from extension (fallback to jpeg)\n    mime, _ = mimetypes.guess_type(\"barkour.jpg\")\n    mime = mime or \"image/jpeg\"\n    \n    # Convert to base64 and display\n    b64 = base64.b64encode(img_bytes).decode(\"utf-8\")\n    st.title(\"\")\n    st.markdown(f'<img src=\"data:{mime};base64,{b64}\" alt=\"barkour.jpg\" style=\"max-width:800px;\">',\n                unsafe_allow_html=True)\n    st.caption(\"\")\n    \nexcept Exception as e:\n    st.write(f\"Could not load image: {str(e)}\")\n    st.write(\"Checking if image exists in stage...\")\n    \n    # Fallback: check if file exists\n    check_result = session.sql(\"\"\"\n        SELECT relative_path \n        FROM DIRECTORY(@PAWCORE_ANALYTICS.SEMANTIC.PAWCORE_DATA_STAGE) \n        WHERE relative_path ILIKE '%barkour%'\n    \"\"\").collect()\n    \n    if check_result:\n        st.write(f\"Found image at: {check_result[0]['RELATIVE_PATH']}\")\n    else:\n        st.write(\"No barkour image found in stage\")",
   "execution_count": null
  },
  {
   "cell_type": "markdown",
   "id": "bb45428b-331d-4507-bc5d-4740d7f66c86",
   "metadata": {
    "name": "AI_Extract",
    "collapsed": false
   },
   "source": "## **How AI_EXTRACT Works**\n\n**AI_EXTRACT** is like having a smart assistant read through documents and pull out specific information you need:\n\n- **Input**: Unstructured text (documents, reports, emails) + list of fields to extract\n- **Process**: Uses AI to understand context and identify relevant information\n- **Output**: Structured JSON with the exact data points you requested\n- **Business Value**: Transforms messy documents into clean, queryable data\n\n**Example**: Give it a QC report and ask for `['testing_protocols', 'identified_gaps']` → Get structured data about testing procedures and quality issues!"
  },
  {
   "cell_type": "code",
   "id": "6ef4e466-127a-4369-bd97-ccfda17e184d",
   "metadata": {
    "language": "sql",
    "name": "cell19"
   },
   "outputs": [],
   "source": "-- EXECUTIVE QUESTION: \"EMEA revenue dropped significantly in Q4 - what quality issues could explain this?\"\n--\n-- BUSINESS CONTEXT: EMEA region showing major revenue decline while other regions stable.\n-- Need to investigate if manufacturing/QC gaps could cause region-specific failures.\n--\n-- AI_EXTRACT GOAL: Find quality control testing gaps that could explain why products\n-- fail specifically in EMEA's environmental conditions (high humidity climate).\nSELECT AI_EXTRACT(\n  file => TO_FILE('@PAWCORE_ANALYTICS.SEMANTIC.PAWCORE_DATA_STAGE/Document_Stage/QC_standards_SEPT24.pdf'),\n  responseFormat => [['water_resistance_tests', 'List: What water resistance tests are performed?'],\n  ['humidity_testing', 'List: How is humidity testing documented or required?'],\n  ['temperature_tests', 'List: What temperature testing procedures are performed?']]\n);",
   "execution_count": null
  },
  {
   "cell_type": "markdown",
   "id": "7567f6d5-8d0d-47df-aa7a-1612747c57d2",
   "metadata": {
    "name": "AI_Extract_Analysis",
    "collapsed": false
   },
   "source": "## Results: AI_EXTRACT Analysis\n\n## What We Discovered:\n\n**Temperature Testing:** 3 comprehensive procedures found\n- Cold Test (-10°C for 4 hours)\n- Heat Test (45°C for 4 hours)  \n- Temperature Cycle Test (5 cycles)\n\n**Water Resistance Testing:** 4 rigorous tests implemented\n- Light Rain Simulation (IPX4)\n- Water Jet Test (IPX5)\n- Temporary Immersion (IPX7)\n- Basic Splash Test\n\n**Humidity Testing:** CONDITIONAL ONLY - \"Humidity (if available)\"\n- Not a required/standard protocol\n- Only tested when equipment happens to be available\n- No dedicated humidity validation procedures\n\n**Critical Discovery:** Humidity testing is optional, not mandatory in QC protocols\n\n## Revenue Mystery Connection\n\n**Found the smoking gun!** \n\nAI_EXTRACT revealed that while PawCore has rigorous temperature and water resistance protocols, humidity testing is only performed \"if available\" - meaning it's NOT a required part of quality control. This explains why devices pass QC but fail catastrophically in EMEA's humid climate (65-75% humidity), directly causing the regional revenue collapse!\n\n"
  },
  {
   "cell_type": "markdown",
   "id": "b1a70ac1-cee3-4eec-99f4-7d1510220119",
   "metadata": {
    "name": "AI_Sentiment",
    "collapsed": false
   },
   "source": "## **How AI_SENTIMENT Works**\n\n**AI_SENTIMENT** is like having an expert analyst read customer feedback and tell you exactly how people feel:\n\n- **Input**: Text (reviews, comments, social media)\n- **Process**: AI analyzes emotional tone and context to determine sentiment\n- **Output**: Sentiment labels (positive, negative, neutral, mixed, unknown)\n- **Business Value**: Instantly understand customer satisfaction patterns and identify problem areas\n\n**This Query**: Analyzes a random sample of 20 reviews across all regions to compare sentiment patterns. By examining reviews from Americas, APAC, and EMEA side-by-side, we can quickly identify which regions have predominantly negative sentiment versus positive/neutral - revealing that EMEA shows a dramatically different sentiment pattern than other regions!\n"
  },
  {
   "cell_type": "code",
   "id": "46f0861e-e5ad-4164-9955-69d0b786d098",
   "metadata": {
    "language": "sql",
    "name": "cell4"
   },
   "outputs": [],
   "source": "-- Sentiment analysis using AI_SENTIMENT - Random sample of 20 reviews across all regions\nSELECT\n    REGION,\n    DATE,\n    AI_SENTIMENT(REVIEW_TEXT):categories[0]:sentiment::STRING as overall_sentiment,\n    REVIEW_TEXT\nFROM SUPPORT.CUSTOMER_REVIEWS\nWHERE DATE >= '2024-10-01' \nAND DATE <= '2024-12-31'\nORDER BY RANDOM()\nLIMIT 20;",
   "execution_count": null
  },
  {
   "cell_type": "markdown",
   "id": "cea06996-a1d3-4e7b-86e1-4e2dfcea299b",
   "metadata": {
    "name": "AI_Classify",
    "collapsed": false
   },
   "source": "## **How AI_CLASSIFY Works**\n\n**AI_CLASSIFY** automatically categorizes text into predefined labels, like having an expert triage specialist sort issues instantly:\n\n- **Input**: Text + list of category labels to classify into\n- **Process**: AI reads the content and determines which category best fits\n- **Output**: The most relevant category label(s) from your predefined list\n- **Business Value**: Automatically organize and route issues without manual review\n\n**This Query**: Takes EMEA's negative reviews and classifies each into problem types (`battery_issues`, `moisture_problems`, `build_quality`, etc.) to quickly identify the dominant failure pattern - revealing that moisture problems are the primary issue driving negative sentiment!\n"
  },
  {
   "cell_type": "code",
   "id": "f44e498f-7629-4b69-a7ec-4d5dba76a0ce",
   "metadata": {
    "language": "sql",
    "name": "cell6"
   },
   "outputs": [],
   "source": "-- Classify negative reviews into problem categories using AI_CLASSIFY\nSELECT\n    LOT_NUMBER,\n    DATE,\n    AI_CLASSIFY(REVIEW_TEXT, ['battery_issues', 'moisture_problems', 'build_quality', 'performance_issues', 'durability_concerns']):labels[0]::STRING as problem_category,\n    AI_SENTIMENT(REVIEW_TEXT):categories[0]:sentiment::STRING as overall_sentiment,\n    AI_EXTRACT(REVIEW_TEXT, ['specific_issues', 'root_cause', 'failure_mode']) as extracted_details,\n    DEVICE_ID,\n    LEFT(REVIEW_TEXT, 150) || '...' as review_preview\nFROM SUPPORT.CUSTOMER_REVIEWS\nWHERE DATE >= '2024-10-01' \nAND DATE <= '2024-12-31'\nAND REGION = 'EMEA'\nAND AI_SENTIMENT(REVIEW_TEXT):categories[0]:sentiment::STRING = 'negative'\nORDER BY DATE;",
   "execution_count": null
  },
  {
   "cell_type": "markdown",
   "id": "a6dac2de-fcef-4fe9-aaf8-ebb95867e688",
   "metadata": {
    "name": "AI_SentimentandClassify_Analysis",
    "collapsed": false
   },
   "source": "## **Results: AI_SENTIMENT/AI_CLASSIFY Analysis**\n\n**What We Discovered:**\n- **Regional Sentiment Patterns**: Clear differences in customer sentiment across regions\n  - **EMEA**: Predominantly negative sentiment in Q4 2024 reviews\n  - **Americas & APAC**: Mix of positive and neutral sentiment\n- **EMEA-Specific Issues**: Negative reviews consistently mention:\n  - Device failures in humid/wet conditions\n  - \"Stops working after getting wet\"\n  - \"Fails constantly in humidity\"\n  - Performance degradation in European climate\n- **Manufacturing Lot Connection**: **LOT 341** consistently appears in EMEA negative reviews\n- **Timeline Correlation**: EMEA negative sentiment concentrated in Q4 2024 (Oct-Dec)\n- **Mystery Clue**: Regional sentiment divide + specific lot number suggests manufacturing defect affecting humidity resistance\n\n**Revenue Mystery Connection**: AI_SENTIMENT reveals a clear regional pattern - EMEA shows overwhelmingly negative sentiment while other regions remain positive, with **LOT 341** as the common thread. This points to a manufacturing defect in LOT 341 that fails specifically in humid environments, directly causing the regional revenue collapse!"
  },
  {
   "cell_type": "markdown",
   "id": "1d4fea79-90f4-44bc-8004-34d37e528a3c",
   "metadata": {
    "name": "AI_Complete",
    "collapsed": false
   },
   "source": "## **How AI_COMPLETE Works**\n\n**AI_COMPLETE** generates intelligent responses to prompts - like having ChatGPT directly in your SQL queries:\n\n- **Input**: Model name + prompt (can ask questions, request analysis, generate text, summarize, etc.)\n- **Process**: Advanced AI reasoning powered by leading LLM models (Mistral, Llama, etc.)\n- **Output**: Free-form text responses tailored to your prompt\n- **Business Value**: Unlimited possibilities - text generation, analysis, recommendations, predictions, and more\n\n**This Query**: Uses AI_COMPLETE for **financial analysis and predictions** by feeding it customer review metrics (ratings, review counts, region, lot number) along with business context. The AI analyzes these metrics and generates revenue impact predictions plus strategic recommendations - transforming customer sentiment data into quantified financial insights and actionable business plans!"
  },
  {
   "cell_type": "code",
   "id": "dc51dd62-d1c6-4e3b-a232-29eaef600838",
   "metadata": {
    "language": "sql",
    "name": "cell13"
   },
   "outputs": [],
   "source": "-- AI_COMPLETE: Predict Financial Impact from Customer Sentiment\n-- Demonstrates AI's ability to connect sentiment data to business outcomes\n\nWITH customer_metrics AS (\n    SELECT \n        region,\n        lot_number,\n        ROUND(AVG(rating), 2) as avg_rating,\n        COUNT(*) as review_count\n    FROM PAWCORE_ANALYTICS.SUPPORT.CUSTOMER_REVIEWS\n    WHERE date >= '2024-10-01'\n    GROUP BY region, lot_number\n)\nSELECT \n    region,\n    lot_number,\n    avg_rating,\n    review_count,\nAI_COMPLETE(\n    'mistral-large2',\n    'Customer rating ' || avg_rating || '/5 with ' || review_count || \n    ' reviews. Estimate monthly revenue impact as percentage. Response format: \"X% revenue impact\"'\n) as revenue_impact\nFROM customer_metrics\nORDER BY avg_rating;",
   "execution_count": null
  },
  {
   "cell_type": "markdown",
   "id": "a7bc1fba-71da-4406-974c-3720a068ec36",
   "metadata": {
    "name": "cell14",
    "collapsed": false
   },
   "source": "## **Results: AI_COMPLETE Analysis**\n\n**What We Discovered:**\n- **Customer Satisfaction Impact**: 2.67/5 average rating from 1,071 reviews\n- **Revenue Potential**: Operating at only 53.4% of potential revenue capacity\n- **Financial Impact**: Estimated 46.6% revenue impact due to poor customer satisfaction\n- **Scale of Issue**: Large review volume (1,071) indicates widespread customer experience problems\n- **Business Reality**: Low ratings directly correlate to significant revenue loss\n\n**Revenue Mystery Connection**: AI_COMPLETE quantifies the customer satisfaction crisis - with ratings this low across over 1,000 reviews, we're losing nearly half our potential revenue due to poor customer experience!"
  },
  {
   "cell_type": "markdown",
   "id": "a5884b57-0bbc-4d26-a11b-bb44f14da696",
   "metadata": {
    "name": "cell18",
    "collapsed": false
   },
   "source": "## **Mystery Solved: Complete AI-Driven Business Intelligence**\n\n**The Revenue Mystery Revealed Through Strategic AI Analysis:**\n\nUsing Snowflake's AI SQL functions, we transformed raw data into executive-level business intelligence:\n\n1. **AI_EXTRACT** → Uncovered critical QC gap: humidity testing documented as \"if available\" (optional/conditional), not a required quality standard - creating systematic failure mode\n2. **AI_SENTIMENT** → Revealed clear regional sentiment divide: EMEA predominantly negative vs Americas/APAC positive, with EMEA reviews consistently mentioning humidity/moisture failures\n3. **AI_CLASSIFY** → Systematically categorized negative reviews, identifying moisture problems as the dominant failure category and pinpointing **LOT 341** as the problematic manufacturing batch\n4. **AI_COMPLETE** → Generated precise financial impact predictions: 129,800 EMEA revenue loss vs 418K opportunity in high-performing regions\n\n**Strategic Business Intelligence Delivered:**\n- **Root Cause Identification**: Quality control gap (optional humidity testing) + manufacturing defect (LOT 341) → systematic product failures in EMEA's humid climate (65-75% humidity)\n- **Regional Pattern Analysis**: EMEA shows overwhelmingly negative sentiment while Americas/APAC remain positive - proving environment-specific failures\n- **Manufacturing Lot Correlation**: LOT 341 consistently appears in negative EMEA reviews, linking specific production batch to regional failures\n- **Financial Impact Quantification**: 129,800 EMEA revenue crisis with specific recovery recommendations + 418K growth opportunity identification\n- **Executive Recommendations**: Board-ready action plans for crisis management (LOT 341 recall/investigation), QC protocol updates (mandatory humidity testing), and growth optimization\n\n**Transformational AI Value:**\n- **Speed**: Minutes vs. weeks to connect QC documentation gaps → customer complaints → specific manufacturing lots → precise revenue impact\n- **Depth**: Multi-dimensional analysis spanning unstructured documents, customer sentiment, problem categorization, and financial modeling\n- **Precision**: Specific root causes (optional humidity testing + LOT 341 defect), exact failure patterns (moisture problems), and quantified financial impact (130K crisis, 418K opportunity)\n- **Strategic Impact**: Executive-level business intelligence that delivers complete end-to-end analysis from quality documentation to actionable recommendations\n\n**Key Takeaway**: Snowflake's AI SQL functions don't just analyze data—they generate strategic business intelligence that connects quality control documents, customer reviews, manufacturing data, and financial metrics into a complete narrative with precise root causes, specific problematic lots, and actionable executive recommendations! \n"
  }
 ]
}
{
 "metadata": {
  "language_info": {
   "name": "python"
  },
  "lastEditStatus": {
   "notebookId": "6sbzpwhavyronrorvw6b",
   "authorId": "7351854357851",
   "authorName": "CALEBTEST",
   "authorEmail": "caleb.a.alexander@gmail.com",
   "sessionId": "54c8e2ee-8c8e-427b-b896-b4fbd5a5e69b",
   "lastEditTime": 1758427780821
  }
 },
 "nbformat_minor": 2,
 "nbformat": 4,
 "cells": [
  {
   "cell_type": "markdown",
   "metadata": {
    "name": "cell1",
    "collapsed": false
   },
   "source": "# PawCore Data Quality Check & AISQL Analysis\n\n## Business Intelligence with Snowflake AI Functions\nThis notebook demonstrates how to use Snowflake's AI SQL functions to investigate a real business problem: Why did EMEA revenue drop significantly in Q4 2024?\n\n**Data Sources:**\n- **Structured Data**: Device telemetry, quality logs, customer reviews, internal communications\n- **Unstructured Data**: PDFs, documentation, and multimedia content\n- **Expected Results**: Non-zero row counts across all tables indicating successful data loading\n\n# AI SQL Functions Analysis\n\n## 1. Document Analysis (AI_EXTRACT)\n**Purpose**: Extract structured insights from unstructured QC documentation  \n**Use Case**: Analyze quality control testing protocols for gaps  \n**Focus**: Environmental testing coverage (humidity, temperature, water resistance)  \n**Output**: Structured JSON revealing testing gaps that explain regional failures\n\n## 2. Customer Feedback Analysis (AI_SENTIMENT)\n**Purpose**: Multi-category sentiment analysis on customer reviews  \n**Use Case**: Analyze customer complaints and satisfaction patterns in EMEA  \n**Focus**: Environmental and technical issues with category-specific sentiment  \n**Output**: Sentiment scores for battery_life, moisture_resistance, build_quality, comfort, value\n\n## 3. Root Cause Analysis (AI_COMPLETE)\n**Purpose**: Synthesize findings into comprehensive business insights  \n**Use Case**: Connect quality gaps to revenue decline with strategic recommendations  \n**Focus**: LOT341 moisture sensor defects and EMEA climate correlation  \n**Output**: Executive summary linking technical issues to business impact",
   "id": "ce110000-1111-2222-3333-ffffff000000"
  },
  {
   "cell_type": "code",
   "execution_count": null,
   "metadata": {
    "vscode": {
     "languageId": "sql"
    },
    "name": "cell2",
    "language": "sql"
   },
   "outputs": [],
   "source": "-- Set up our environment\nUSE ROLE accountadmin;\nUSE WAREHOUSE PAWCORE_DEMO_WH;\nUSE DATABASE PAWCORE_ANALYTICS;\nUSE SCHEMA SEMANTIC;",
   "id": "ce110000-1111-2222-3333-ffffff000001"
  },
  {
   "cell_type": "code",
   "id": "2ed3fd83-162c-4b12-b99d-222a35595fc9",
   "metadata": {
    "language": "sql",
    "name": "cell9"
   },
   "outputs": [],
   "source": "-- Telemetry data (random sample)\nSELECT 'TELEMETRY' as source, device_id, lot_number, battery_level, humidity_reading, region, timestamp::date as date\nFROM DEVICE_DATA.TELEMETRY \nORDER BY RANDOM()\nLIMIT 5;",
   "execution_count": null
  },
  {
   "cell_type": "code",
   "id": "8c56fa41-6e8d-4f24-9c96-e81e20ac44e7",
   "metadata": {
    "language": "sql",
    "name": "cell10"
   },
   "outputs": [],
   "source": "-- Slack messages (random sample)\nSELECT 'SLACK_MESSAGES' as source, slack_channel, user_name, text, thread_id\nFROM SUPPORT.SLACK_MESSAGES \nORDER BY RANDOM()\nLIMIT 10;",
   "execution_count": null
  },
  {
   "cell_type": "code",
   "id": "da16b0f8-6755-473a-9f8e-f60708a51611",
   "metadata": {
    "language": "sql",
    "name": "cell11"
   },
   "outputs": [],
   "source": "-- Random sample of parsed document content\nSELECT \n    relative_path,\n    file_name,\n    LENGTH(content) as content_length,\n    LEFT(content, 200) || '...' as content_preview\nFROM UNSTRUCTURED.PARSED_CONTENT\nORDER BY RANDOM()\nLIMIT 5;",
   "execution_count": null
  },
  {
   "cell_type": "code",
   "id": "92cf57f3-ce21-4bc7-9ce1-af9e42123372",
   "metadata": {
    "language": "python",
    "name": "cell12"
   },
   "outputs": [],
   "source": "# Resume Image: Technical Wrong Focus Resume\nimport warnings, base64, mimetypes, streamlit as st\nfrom snowflake.snowpark.context import get_active_session\n\nwarnings.filterwarnings(\"ignore\")\nsession = get_active_session()\n\ntry:\n    # Read resume image directly from stage\n    stage_path = \"@PAWCORE_ANALYTICS.SEMANTIC.PAWCORE_DATA_STAGE/HR/resume_technical_wrong_focus-1.png\"\n    img_bytes = session.file.get_stream(stage_path, decompress=False).read()\n    \n    # Guess MIME type from extension\n    mime, _ = mimetypes.guess_type(\"resume_technical_wrong_focus-1.png\")\n    mime = mime or \"image/png\"\n    \n    # Convert to base64 and display\n    b64 = base64.b64encode(img_bytes).decode(\"utf-8\")\n    st.title(\"📄 Resume Example\")\n    st.markdown(f'<img src=\"data:{mime};base64,{b64}\" alt=\"resume_technical_wrong_focus\" style=\"max-width:800px; border: 1px solid #ddd;\">',\n                unsafe_allow_html=True)\n    st.caption(\"PawCore HR: Resume\")\n    \nexcept Exception as e:\n    st.write(f\"Could not load resume image: {str(e)}\")\n    st.write(\"Checking available resume images...\")\n    \n    # Fallback: check what resume images exist\n    check_result = session.sql(\"\"\"\n        SELECT relative_path \n        FROM DIRECTORY(@PAWCORE_ANALYTICS.SEMANTIC.PAWCORE_DATA_STAGE) \n        WHERE relative_path ILIKE '%resume%' \n        AND (relative_path ILIKE '%.png' OR relative_path ILIKE '%.jpg' OR relative_path ILIKE '%.jpeg')\n    \"\"\").collect()\n    \n    if check_result:\n        st.write(\"Available resume images:\")\n        for img in check_result:\n            st.write(f\"- {img['RELATIVE_PATH']}\")\n    else:\n        st.write(\"No resume images found in stage\")",
   "execution_count": null
  },
  {
   "cell_type": "code",
   "id": "f7e732b8-9e50-4256-b33e-5552775fdee2",
   "metadata": {
    "language": "python",
    "name": "cell3"
   },
   "outputs": [],
   "source": "# Product Image: Barkour.jpg\nimport warnings, base64, mimetypes, streamlit as st\nfrom snowflake.snowpark.context import get_active_session\n\nwarnings.filterwarnings(\"ignore\")\nsession = get_active_session()\n\ntry:\n    # Read image directly from stage\n    stage_path = \"@PAWCORE_ANALYTICS.SEMANTIC.PAWCORE_DATA_STAGE/images/barkour.jpg\"\n    img_bytes = session.file.get_stream(stage_path, decompress=False).read()\n    \n    # Guess MIME type from extension (fallback to jpeg)\n    mime, _ = mimetypes.guess_type(\"barkour.jpg\")\n    mime = mime or \"image/jpeg\"\n    \n    # Convert to base64 and display\n    b64 = base64.b64encode(img_bytes).decode(\"utf-8\")\n    st.title(\"\")\n    st.markdown(f'<img src=\"data:{mime};base64,{b64}\" alt=\"barkour.jpg\" style=\"max-width:600px;\">',\n                unsafe_allow_html=True)\n    st.caption(\"\")\n    \nexcept Exception as e:\n    st.write(f\"Could not load image: {str(e)}\")\n    st.write(\"Checking if image exists in stage...\")\n    \n    # Fallback: check if file exists\n    check_result = session.sql(\"\"\"\n        SELECT relative_path \n        FROM DIRECTORY(@PAWCORE_ANALYTICS.SEMANTIC.PAWCORE_DATA_STAGE) \n        WHERE relative_path ILIKE '%barkour%'\n    \"\"\").collect()\n    \n    if check_result:\n        st.write(f\"Found image at: {check_result[0]['RELATIVE_PATH']}\")\n    else:\n        st.write(\"No barkour image found in stage\")",
   "execution_count": null
  },
  {
   "cell_type": "markdown",
   "id": "bb45428b-331d-4507-bc5d-4740d7f66c86",
   "metadata": {
    "name": "cell15",
    "collapsed": false
   },
   "source": "## 🔧 **How AI_EXTRACT Works**\n\n**AI_EXTRACT** is like having a smart assistant read through documents and pull out specific information you need:\n\n- **Input**: Unstructured text (documents, reports, emails) + list of fields to extract\n- **Process**: Uses AI to understand context and identify relevant information\n- **Output**: Structured JSON with the exact data points you requested\n- **Business Value**: Transforms messy documents into clean, queryable data\n\n**Example**: Give it a QC report and ask for `['testing_protocols', 'identified_gaps']` → Get structured data about testing procedures and quality issues!"
  },
  {
   "cell_type": "code",
   "id": "98205cb8-0142-4671-84dc-1a31de9f66c8",
   "metadata": {
    "language": "sql",
    "name": "cell8"
   },
   "outputs": [],
   "source": "-- 🔍 EXECUTIVE QUESTION: \"EMEA revenue dropped significantly in Q4 - what quality issues could explain this?\"\n-- \n-- BUSINESS CONTEXT: EMEA region showing major revenue decline while other regions stable.\n-- Need to investigate if manufacturing/QC gaps could cause region-specific failures.\n--\n-- AI_EXTRACT GOAL: Find quality control testing gaps that could explain why products\n-- fail specifically in EMEA's environmental conditions (high humidity climate).\n\nSELECT\n    AI_EXTRACT(\n        '@PAWCORE_ANALYTICS.SEMANTIC.PAWCORE_DATA_STAGE/Document_Stage/QC_standards_SEPT24.pdf',\n        {\n            'humidity_testing': 'How is humidity testing documented or required?',\n            'temperature_tests': 'List: What temperature testing procedures are performed?',\n            'water_resistance_tests': 'List: What water resistance tests are performed?',\n            'environmental_gaps': 'What environmental factors are mentioned but not fully tested?'\n        }\n    ) as quality_insights;",
   "execution_count": null
  },
  {
   "cell_type": "markdown",
   "id": "7567f6d5-8d0d-47df-aa7a-1612747c57d2",
   "metadata": {
    "name": "cell7",
    "collapsed": false
   },
   "source": "## 🔍 **Results: AI_EXTRACT Analysis**\n\n**What We Discovered:**\n- **Temperature Testing**: 2 comprehensive procedures found (Thermal Shock, Thermal Cycling)\n- **Water Resistance Testing**: 4 rigorous IPX standards implemented (IPX4, IPX5, IPX6, IPX7)\n- **Humidity Testing**: **NONE** - Complete absence of humidity validation protocols\n- **Environmental Gaps**: **NONE** - No environmental testing beyond temperature and water\n- **Critical Discovery**: Comprehensive testing for temperature/water vs. **zero humidity testing**\n\n**Revenue Mystery Connection**: Found the smoking gun! AI_EXTRACT revealed that while PawCore has rigorous temperature and water resistance protocols, there is **no humidity testing whatsoever**. This explains why devices pass QC but fail catastrophically in EMEA's humid climate (65-75% humidity), directly causing the regional revenue collapse!"
  },
  {
   "cell_type": "markdown",
   "id": "b1a70ac1-cee3-4eec-99f4-7d1510220119",
   "metadata": {
    "name": "cell16",
    "collapsed": false
   },
   "source": "## 📊 **How AI_SENTIMENT Works**\n\n**AI_SENTIMENT** is like having an expert analyst read customer feedback and tell you exactly how people feel:\n\n- **Input**: Text (reviews, comments, social media) + optional categories to analyze\n- **Process**: AI analyzes emotional tone and context for overall and specific aspects\n- **Output**: Sentiment labels (positive, negative, neutral, mixed) for each category\n- **Business Value**: Instantly understand customer satisfaction patterns and identify problem areas\n\n**Example**: Analyze customer reviews for `['battery_life', 'moisture_resistance']` → Discover that customers love battery life but hate moisture issues!\n"
  },
  {
   "cell_type": "code",
   "id": "46f0861e-e5ad-4164-9955-69d0b786d098",
   "metadata": {
    "language": "sql",
    "name": "cell4"
   },
   "outputs": [],
   "source": "-- Multi-category sentiment analysis using AI_SENTIMENT\nSELECT\n    AI_SENTIMENT(REVIEW_TEXT):categories[0]:sentiment::STRING as overall_sentiment,\n    AI_EXTRACT(REVIEW_TEXT, ['specific_issues', 'problems_mentioned', 'complaints']) as issues,\n    DATE,\n    REVIEW_TEXT\nFROM SUPPORT.CUSTOMER_REVIEWS\nWHERE DATE >= '2024-10-01' \nAND DATE <= '2024-12-31'\nAND REGION = 'EMEA'\nORDER BY DATE;",
   "execution_count": null
  },
  {
   "cell_type": "code",
   "id": "f44e498f-7629-4b69-a7ec-4d5dba76a0ce",
   "metadata": {
    "language": "sql",
    "name": "cell6"
   },
   "outputs": [],
   "source": "-- Classify negative reviews into problem categories using AI_CLASSIFY\nSELECT\n    AI_CLASSIFY(REVIEW_TEXT, ['battery_issues', 'moisture_problems', 'build_quality', 'performance_issues', 'durability_concerns']):labels[0]::STRING as problem_category,\n    AI_SENTIMENT(REVIEW_TEXT):categories[0]:sentiment::STRING as overall_sentiment,\n    AI_EXTRACT(REVIEW_TEXT, ['specific_issues', 'root_cause', 'failure_mode']) as extracted_details,\n    DATE,\n    LOT_NUMBER,\n    DEVICE_ID,\n    LEFT(REVIEW_TEXT, 150) || '...' as review_preview\nFROM SUPPORT.CUSTOMER_REVIEWS\nWHERE DATE >= '2024-10-01' \nAND DATE <= '2024-12-31'\nAND REGION = 'EMEA'\nAND AI_SENTIMENT(REVIEW_TEXT):categories[0]:sentiment::STRING = 'negative'\nORDER BY DATE;",
   "execution_count": null
  },
  {
   "cell_type": "markdown",
   "id": "a6dac2de-fcef-4fe9-aaf8-ebb95867e688",
   "metadata": {
    "name": "cell5",
    "collapsed": false
   },
   "source": "## 📊 **Results: AI_SENTIMENT Analysis**\n\n**What We Discovered:**\n- **Sentiment Pattern**: 90% negative sentiment across all Q4 2024 EMEA reviews\n- **Specific Issues Extracted**: \n  - Battery drain in humid conditions (mentioned in 8/10 reviews)\n  - Moisture sensor false alarms (6/10 reviews)\n  - Complete device failure in wet weather (5/10 reviews)\n- **Timeline Correlation**: Issues escalated from October to December 2024\n- **Mystery Clue**: Multiple customers specifically mention \"lot 341\" and humidity-related failures\n\n**Revenue Mystery Connection**: Customer sentiment reveals the exact problem - devices from lot 341 are failing specifically in humid conditions, leading to returns and negative reviews in EMEA!"
  },
  {
   "cell_type": "markdown",
   "id": "1d4fea79-90f4-44bc-8004-34d37e528a3c",
   "metadata": {
    "name": "cell17",
    "collapsed": false
   },
   "source": "## 🎯 **How AI_COMPLETE Works**\n\n**AI_COMPLETE** is like having a senior consultant analyze your data and provide strategic insights:\n\n- **Input**: Model name + detailed prompt with context and specific question\n- **Process**: Advanced AI reasoning that connects dots across multiple data points\n- **Output**: Comprehensive analysis, recommendations, and actionable insights\n- **Business Value**: Get expert-level analysis and conclusions from your data\n\n**Example**: Provide engineering findings about defective sensors → Get root cause analysis explaining exactly how this impacts revenue and what to do next!"
  },
  {
   "cell_type": "code",
   "id": "dc51dd62-d1c6-4e3b-a232-29eaef600838",
   "metadata": {
    "language": "sql",
    "name": "cell13"
   },
   "outputs": [],
   "source": "-- Final Analysis: AI_COMPLETE for Root Cause Summary\nSELECT\n    '🔍 ROOT CAUSE ANALYSIS' as analysis_type,\n    AI_COMPLETE(\n        'mistral-large2',\n        'PawCore engineering found: Lot 341 moisture sensors trigger at 65% humidity instead of 85% spec. EMEA has 65-75% humidity. What caused Q4 2024 EMEA revenue drop? Answer in 2 sentences.'\n    ) as summary;",
   "execution_count": null
  },
  {
   "cell_type": "markdown",
   "id": "a7bc1fba-71da-4406-974c-3720a068ec36",
   "metadata": {
    "name": "cell14",
    "collapsed": false
   },
   "source": "## 🎯 **Results: AI_COMPLETE Analysis**\n\n**What We Discovered:**\n- **Root Cause Confirmed**: Manufacturing defect in lot 341 moisture sensors\n- **Technical Issue**: Sensors triggering at 65% humidity instead of 85% specification\n- **Business Impact**: Devices fail in normal EMEA humidity conditions (65-75%)\n- **Timeline**: Issue discovered in October but not immediately addressed\n- **Mystery Solved**: This explains the Q4 2024 EMEA revenue drop\n\n**Revenue Mystery Connection**: AI_COMPLETE provides the final smoking gun - lot 341's defective moisture sensors cause excessive battery drain and device failures in EMEA's humid climate, directly causing the revenue loss!"
  },
  {
   "cell_type": "markdown",
   "id": "a5884b57-0bbc-4d26-a11b-bb44f14da696",
   "metadata": {
    "name": "cell18",
    "collapsed": false
   },
   "source": "## 🎯 **Mystery Solved: The Complete Picture**\n\n**The Revenue Mystery Revealed Through AI:**\n\nUsing Snowflake's AI SQL functions, we uncovered the complete story behind EMEA's revenue decline:\n\n1. **AI_EXTRACT** → Discovered QC testing gaps: humidity only tested \"if available\" vs. rigorous temperature protocols\n2. **AI_SENTIMENT** → Revealed 90% negative sentiment in EMEA reviews mentioning LOT341 and humidity failures  \n3. **AI_COMPLETE** → Connected all findings: LOT341 moisture sensors trigger at 65% (EMEA normal) vs 85% specification\n\n**Business Impact & ROI:**\n- **Root Cause**: Manufacturing defect in LOT341 → devices fail in normal EMEA humidity (65-75%)\n- **Customer Impact**: Massive returns, negative reviews, lost customer trust in key market\n- **Revenue Impact**: Q4 2024 EMEA revenue drop directly linked to LOT341 device failures\n- **AI Value**: Solved complex cross-functional mystery in minutes vs. weeks of manual analysis\n\n**Key Takeaway**: Snowflake's AI functions transform unstructured data (documents, reviews, communications) into actionable business insights, enabling rapid root cause analysis and data-driven decision making! 🚀"
  }
 ]
}
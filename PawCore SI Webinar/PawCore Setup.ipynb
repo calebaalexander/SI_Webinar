{
 "cells": [
  {
   "cell_type": "markdown",
   "id": "ed7c470a",
   "metadata": {},
   "source": [
    "# PawCore Snowflake Intelligence Setup\n",
    "\n",
    "**Complete setup notebook for the PawCore Intelligence mystery demo**\n",
    "\n",
    "Run cells in order to create the environment for solving PawCore's Q4 revenue mystery using Snowflake Intelligence features.\n"
   ]
  },
  {
   "cell_type": "markdown",
   "id": "a32297c1",
   "metadata": {},
   "source": [
    "## 🕵️ The Mystery\n",
    "\n",
    "**PawCore's Q4 revenue dropped in EMEA for SmartCollar products. Returns surged due to faulty batteries, but were under-reported by an overwhelmed support analyst.**\n",
    "\n",
    "**Your Mission:** Use Snowflake Intelligence to solve this mystery end-to-end.\n",
    "\n",
    "**What You'll Learn:**\n",
    "- 🔍 Semantic Views + Cortex Analyst\n",
    "- 🤖 AI in SQL (AI_EXTRACT, AI_CLASSIFY, AI_COMPLETE)\n",
    "- 📄 Cortex Search for unstructured data\n",
    "- 🚀 Intelligent Agents with custom tools\n",
    "- 📧 Automated executive reporting\n"
   ]
  },
  {
   "cell_type": "code",
   "execution_count": null,
   "id": "db20b17e",
   "metadata": {},
   "outputs": [],
   "source": [
    "-- Environment Setup\n",
    "USE ROLE ACCOUNTADMIN;\n",
    "\n",
    "CREATE WAREHOUSE IF NOT EXISTS PAWCORE_INTELLIGENCE_WH\n",
    "  WAREHOUSE_SIZE = 'XSMALL'\n",
    "  AUTO_SUSPEND = 60\n",
    "  AUTO_RESUME = TRUE;\n",
    "\n",
    "CREATE DATABASE IF NOT EXISTS PAWCORE_INTELLIGENCE_DEMO;\n",
    "CREATE SCHEMA IF NOT EXISTS PAWCORE_INTELLIGENCE_DEMO.BUSINESS_DATA;\n",
    "CREATE SCHEMA IF NOT EXISTS PAWCORE_INTELLIGENCE_DEMO.DOCUMENTS;\n",
    "CREATE SCHEMA IF NOT EXISTS PAWCORE_INTELLIGENCE_DEMO.AGENTS;\n",
    "\n",
    "USE DATABASE PAWCORE_INTELLIGENCE_DEMO;\n",
    "USE SCHEMA BUSINESS_DATA;\n",
    "USE WAREHOUSE PAWCORE_INTELLIGENCE_WH;\n",
    "\n",
    "SELECT 'Environment ready!' AS status;\n"
   ]
  },
  {
   "cell_type": "code",
   "execution_count": null,
   "id": "d31e0d63",
   "metadata": {
    "vscode": {
     "languageId": "sql"
    }
   },
   "outputs": [],
   "source": [
    "-- Create Stages and File Formats\n",
    "CREATE FILE FORMAT IF NOT EXISTS CSV_FORMAT\n",
    "  TYPE = CSV\n",
    "  FIELD_OPTIONALLY_ENCLOSED_BY = '\"'\n",
    "  SKIP_HEADER = 1\n",
    "  NULL_IF = ('', 'NULL')\n",
    "  TRIM_SPACE = TRUE;\n",
    "\n",
    "CREATE STAGE IF NOT EXISTS INTERNAL_DATA_STAGE FILE_FORMAT = CSV_FORMAT;\n",
    "CREATE STAGE IF NOT EXISTS DOCUMENT_STAGE;\n",
    "CREATE STAGE IF NOT EXISTS AUDIO_STAGE;\n",
    "\n",
    "ALTER STAGE DOCUMENT_STAGE SET DIRECTORY = (ENABLE = TRUE);\n",
    "ALTER STAGE AUDIO_STAGE SET DIRECTORY = (ENABLE = TRUE);\n",
    "\n",
    "SELECT 'Stages created!' AS status;\n"
   ]
  },
  {
   "cell_type": "markdown",
   "id": "8f9da395",
   "metadata": {},
   "source": [
    "## ⬆️ UPLOAD FILES NOW\n",
    "\n",
    "**Before continuing, upload these files via Snowflake UI:**\n",
    "\n",
    "### To INTERNAL_DATA_STAGE:\n",
    "- `pawcore_sales.csv`\n",
    "- `returns.csv` ⭐ **Critical for mystery**\n",
    "- `hr_resumes.csv`\n",
    "- `device_sales_by_region.csv`\n",
    "- `pet_owners.csv`\n",
    "- `vet_feedback.csv`\n",
    "- `fitbit_inventory.csv`\n",
    "- `email_campaigns.csv`\n",
    "- `enhanced_sales_data.csv`\n",
    "- `social_media_posts.csv`\n",
    "- `support_tickets.csv`\n",
    "- `warranty_costs.csv`\n",
    "\n",
    "### To DOCUMENT_STAGE:\n",
    "- `customer_reviews.csv` ⭐ **Critical for mystery**\n",
    "- `pawcore_slack.csv` ⭐ **Critical for mystery**\n",
    "- `Q4_2024_PawCore_Financial_Report.md`\n",
    "- `Sales_Performance_Q4_2024.md`\n",
    "- `Quarterly_Sales_Speech_PawCore.md`\n",
    "\n",
    "### To AUDIO_STAGE:\n",
    "- `PawCore Quarterly Call.mp3`\n",
    "\n",
    "**📍 How to upload:** Go to Snowflake UI → Data → Databases → PAWCORE_INTELLIGENCE_DEMO → BUSINESS_DATA → click on stage name → \"Upload Files\"\n"
   ]
  },
  {
   "cell_type": "code",
   "execution_count": null,
   "id": "098c61f1",
   "metadata": {
    "vscode": {
     "languageId": "sql"
    }
   },
   "outputs": [],
   "source": [
    "-- Create Tables\n",
    "CREATE TABLE IF NOT EXISTS PAWCORE_SALES (\n",
    "  DATE DATE,\n",
    "  REGION STRING,\n",
    "  PRODUCT STRING,\n",
    "  FORECAST_SALES NUMBER(10,2),\n",
    "  ACTUAL_SALES NUMBER(10,2),\n",
    "  VARIANCE NUMBER(10,2),\n",
    "  PCT_OF_FORECAST NUMBER(5,2),\n",
    "  INVENTORY_UNITS_AVAILABLE INTEGER,\n",
    "  MARKETING_ENGAGEMENT_SCORE INTEGER\n",
    ");\n",
    "\n",
    "-- Critical mystery table\n",
    "CREATE TABLE IF NOT EXISTS RETURNS (\n",
    "  RETURN_ID STRING,\n",
    "  DATE DATE,\n",
    "  REGION STRING,\n",
    "  PRODUCT STRING,\n",
    "  LOT_ID STRING,\n",
    "  REASON STRING,\n",
    "  QTY NUMBER,\n",
    "  UNIT_COST_EUR NUMBER(10,2),\n",
    "  TOTAL_COST_EUR NUMBER(10,2)\n",
    ");\n",
    "\n",
    "-- HR resumes for hiring bonus\n",
    "CREATE TABLE IF NOT EXISTS HR_RESUMES (\n",
    "  CANDIDATE_NAME STRING,\n",
    "  RESUME_TEXT TEXT,\n",
    "  APPLICATION_DATE DATE,\n",
    "  POSITION_APPLIED STRING\n",
    ");\n",
    "\n",
    "-- Supporting tables\n",
    "CREATE TABLE IF NOT EXISTS PET_OWNERS (\n",
    "  CUSTOMER_ID STRING,\n",
    "  CUSTOMER_NAME STRING,\n",
    "  PET_TYPE STRING,\n",
    "  PET_NAME STRING,\n",
    "  REGION STRING,\n",
    "  SEGMENT STRING,\n",
    "  JOIN_DATE DATE\n",
    ");\n",
    "\n",
    "CREATE TABLE IF NOT EXISTS DEVICE_SALES_BY_REGION (\n",
    "  DATE DATE,\n",
    "  REGION STRING,\n",
    "  DEVICE_TYPE STRING,\n",
    "  UNITS_SOLD INTEGER,\n",
    "  REVENUE NUMBER(10,2),\n",
    "  GROWTH_RATE NUMBER(5,2)\n",
    ");\n",
    "\n",
    "-- Unstructured data tables\n",
    "CREATE TABLE IF NOT EXISTS SLACK_MESSAGES (\n",
    "  MESSAGE_ID STRING,\n",
    "  CHANNEL STRING,\n",
    "  AUTHOR STRING,\n",
    "  MESSAGE_TEXT STRING,\n",
    "  TIMESTAMP TIMESTAMP,\n",
    "  SENTIMENT STRING\n",
    ");\n",
    "\n",
    "CREATE TABLE IF NOT EXISTS CUSTOMER_REVIEWS (\n",
    "  REVIEW_ID STRING,\n",
    "  DATE DATE,\n",
    "  PRODUCT STRING,\n",
    "  CUSTOMER_NAME STRING,\n",
    "  RATING INTEGER,\n",
    "  REVIEW_TEXT STRING,\n",
    "  SENTIMENT STRING,\n",
    "  REVIEW_CATEGORY STRING,\n",
    "  VERIFIED_PURCHASE STRING,\n",
    "  HELPFUL_VOTES INTEGER,\n",
    "  REVIEW_LENGTH INTEGER,\n",
    "  REGION STRING,\n",
    "  CUSTOMER_SEGMENT STRING\n",
    ");\n",
    "\n",
    "-- Additional mystery support tables\n",
    "CREATE TABLE IF NOT EXISTS SUPPORT_TICKETS (\n",
    "  TICKET_ID STRING,\n",
    "  DATE DATE,\n",
    "  REGION STRING,\n",
    "  PRODUCT STRING,\n",
    "  FIRMWARE_VERSION STRING,\n",
    "  CATEGORY STRING,\n",
    "  STATUS STRING\n",
    ");\n",
    "\n",
    "CREATE TABLE IF NOT EXISTS WARRANTY_COSTS (\n",
    "  PERIOD STRING,\n",
    "  REGION STRING,\n",
    "  PRODUCT STRING,\n",
    "  COST_EUR NUMBER(10,2)\n",
    ");\n",
    "\n",
    "SELECT 'Tables created!' AS status;\n"
   ]
  },
  {
   "cell_type": "code",
   "execution_count": null,
   "id": "deb23585",
   "metadata": {
    "vscode": {
     "languageId": "sql"
    }
   },
   "outputs": [],
   "source": [
    "-- Load Critical Data (Sales, Returns, HR Resumes)\n",
    "COPY INTO PAWCORE_SALES (\n",
    "  DATE, REGION, PRODUCT, FORECAST_SALES, ACTUAL_SALES, VARIANCE,\n",
    "  PCT_OF_FORECAST, INVENTORY_UNITS_AVAILABLE, MARKETING_ENGAGEMENT_SCORE\n",
    ")\n",
    "FROM @INTERNAL_DATA_STAGE/pawcore_sales.csv\n",
    "FILE_FORMAT = CSV_FORMAT\n",
    "ON_ERROR = 'CONTINUE';\n",
    "\n",
    "-- Load critical returns data for mystery\n",
    "COPY INTO RETURNS (\n",
    "  RETURN_ID, DATE, REGION, PRODUCT, LOT_ID, REASON, QTY, UNIT_COST_EUR, TOTAL_COST_EUR\n",
    ")\n",
    "FROM @INTERNAL_DATA_STAGE/returns.csv\n",
    "FILE_FORMAT = CSV_FORMAT\n",
    "ON_ERROR = 'CONTINUE';\n",
    "\n",
    "-- Load HR resumes for hiring bonus\n",
    "COPY INTO HR_RESUMES (\n",
    "  CANDIDATE_NAME, RESUME_TEXT, APPLICATION_DATE, POSITION_APPLIED\n",
    ")\n",
    "FROM @INTERNAL_DATA_STAGE/hr_resumes.csv\n",
    "FILE_FORMAT = CSV_FORMAT\n",
    "ON_ERROR = 'CONTINUE';\n",
    "\n",
    "SELECT 'Critical data loaded!' AS status;\n"
   ]
  },
  {
   "cell_type": "code",
   "execution_count": null,
   "id": "37aee6cb",
   "metadata": {
    "vscode": {
     "languageId": "sql"
    }
   },
   "outputs": [],
   "source": [
    "-- Load Unstructured Data (Slack & Reviews)\n",
    "\n",
    "-- Slack messages with staging\n",
    "CREATE OR REPLACE TABLE SLACK_MESSAGES_STG (URL STRING, CHANNEL STRING, TS STRING, TEXT STRING);\n",
    "COPY INTO SLACK_MESSAGES_STG FROM @DOCUMENT_STAGE/pawcore_slack.csv FILE_FORMAT = CSV_FORMAT FORCE = TRUE ON_ERROR = 'CONTINUE';\n",
    "\n",
    "INSERT INTO SLACK_MESSAGES (MESSAGE_ID, CHANNEL, AUTHOR, MESSAGE_TEXT, TIMESTAMP, SENTIMENT)\n",
    "SELECT TS, CHANNEL, NULL, TEXT, TO_TIMESTAMP_NTZ(TRY_TO_NUMBER(SUBSTR(TS,1,10))), NULL\n",
    "FROM SLACK_MESSAGES_STG;\n",
    "\n",
    "-- Add sentiment analysis\n",
    "UPDATE SLACK_MESSAGES\n",
    "SET SENTIMENT = SNOWFLAKE.CORTEX.SENTIMENT(MESSAGE_TEXT)\n",
    "WHERE SENTIMENT IS NULL;\n",
    "\n",
    "-- Customer reviews\n",
    "COPY INTO CUSTOMER_REVIEWS\n",
    "FROM @DOCUMENT_STAGE/customer_reviews.csv\n",
    "FILE_FORMAT = CSV_FORMAT\n",
    "FORCE = TRUE\n",
    "ON_ERROR = 'CONTINUE';\n",
    "\n",
    "-- Quick supporting data load\n",
    "CREATE OR REPLACE TABLE PET_OWNERS_STG (CUSTOMER_NAME STRING, PHONE STRING, EMAIL STRING);\n",
    "COPY INTO PET_OWNERS_STG FROM @INTERNAL_DATA_STAGE/pet_owners.csv FILE_FORMAT = CSV_FORMAT ON_ERROR = 'CONTINUE';\n",
    "INSERT INTO PET_OWNERS (CUSTOMER_ID, CUSTOMER_NAME, PET_TYPE, PET_NAME, REGION, SEGMENT, JOIN_DATE)\n",
    "SELECT UUID_STRING(), CUSTOMER_NAME, NULL, NULL, NULL, NULL, CURRENT_DATE() FROM PET_OWNERS_STG;\n",
    "\n",
    "-- Load additional mystery support data\n",
    "COPY INTO SUPPORT_TICKETS (TICKET_ID, DATE, REGION, PRODUCT, FIRMWARE_VERSION, CATEGORY, STATUS)\n",
    "FROM @INTERNAL_DATA_STAGE/support_tickets.csv\n",
    "FILE_FORMAT = CSV_FORMAT\n",
    "ON_ERROR = 'CONTINUE';\n",
    "\n",
    "COPY INTO WARRANTY_COSTS (PERIOD, REGION, PRODUCT, COST_EUR)\n",
    "FROM @INTERNAL_DATA_STAGE/warranty_costs.csv\n",
    "FILE_FORMAT = CSV_FORMAT\n",
    "ON_ERROR = 'CONTINUE';\n",
    "\n",
    "SELECT 'All data loaded!' AS status;\n"
   ]
  },
  {
   "cell_type": "code",
   "execution_count": null,
   "id": "2b7afe02",
   "metadata": {
    "vscode": {
     "languageId": "sql"
    }
   },
   "outputs": [],
   "source": [
    "-- Verify Data Load\n",
    "SELECT 'PAWCORE_SALES' AS table_name, COUNT(*) AS row_count FROM PAWCORE_SALES\n",
    "UNION ALL SELECT 'RETURNS', COUNT(*) FROM RETURNS  -- Should be ~9 rows\n",
    "UNION ALL SELECT 'HR_RESUMES', COUNT(*) FROM HR_RESUMES  -- Should be 8 rows\n",
    "UNION ALL SELECT 'CUSTOMER_REVIEWS', COUNT(*) FROM CUSTOMER_REVIEWS\n",
    "UNION ALL SELECT 'SLACK_MESSAGES', COUNT(*) FROM SLACK_MESSAGES\n",
    "UNION ALL SELECT 'PET_OWNERS', COUNT(*) FROM PET_OWNERS\n",
    "UNION ALL SELECT 'SUPPORT_TICKETS', COUNT(*) FROM SUPPORT_TICKETS\n",
    "UNION ALL SELECT 'WARRANTY_COSTS', COUNT(*) FROM WARRANTY_COSTS\n",
    "ORDER BY table_name;\n"
   ]
  },
  {
   "cell_type": "code",
   "execution_count": null,
   "id": "54430645",
   "metadata": {
    "vscode": {
     "languageId": "sql"
    }
   },
   "outputs": [],
   "source": [
    "-- Mystery Preview: Spot the Anomaly!\n",
    "WITH weekly_returns AS (\n",
    "    SELECT \n",
    "        DATE_TRUNC('WEEK', DATE) AS week_start,\n",
    "        LOT_ID,\n",
    "        SUM(QTY) AS returned_units\n",
    "    FROM RETURNS\n",
    "    WHERE PRODUCT = 'SmartCollar' AND REGION = 'EMEA'\n",
    "    GROUP BY 1, 2\n",
    "),\n",
    "baseline AS (\n",
    "    SELECT AVG(returned_units) AS avg_baseline\n",
    "    FROM weekly_returns\n",
    "    WHERE week_start < '2024-10-01'\n",
    ")\n",
    "SELECT \n",
    "    w.week_start,\n",
    "    w.LOT_ID,\n",
    "    w.returned_units,\n",
    "    ROUND(b.avg_baseline, 1) AS baseline,\n",
    "    ROUND(w.returned_units / b.avg_baseline, 1) AS spike_multiplier,\n",
    "    CASE \n",
    "        WHEN w.returned_units >= 3 * b.avg_baseline THEN '🚨 FLAGGED'\n",
    "        ELSE 'Normal'\n",
    "    END AS status\n",
    "FROM weekly_returns w\n",
    "CROSS JOIN baseline b\n",
    "WHERE w.week_start >= '2024-10-01'\n",
    "ORDER BY w.week_start, w.LOT_ID;\n"
   ]
  },
  {
   "cell_type": "markdown",
   "id": "e30fd8bd",
   "metadata": {},
   "source": [
    "## 🎉 Setup Complete!\n",
    "\n",
    "**Your PawCore mystery environment is ready!**\n",
    "\n",
    "**Next Steps:**\n",
    "1. 📖 Follow the **Master Guide**: `COMPLETE_MASTER_HOL_GUIDE.md`\n",
    "2. 🕵️ Start with **Phase 1**: Detect the Gap using Cortex Analyst\n",
    "3. 🔍 Create **Semantic Views** for business-friendly querying\n",
    "4. 🤖 Use **AI in SQL** functions for deeper analysis\n",
    "5. 📧 Build **Intelligent Agents** for automated reporting\n",
    "\n",
    "**Key Mystery Data:**\n",
    "- `RETURNS`: Look for Lot 341 anomalies ⭐\n",
    "- `CUSTOMER_REVIEWS`: Q4 SmartCollar complaints ⭐\n",
    "- `SLACK_MESSAGES`: Support escalation patterns ⭐\n",
    "- `SUPPORT_TICKETS`: Evidence of support team overwhelm ⭐\n",
    "- `WARRANTY_COSTS`: Financial impact escalation ⭐\n",
    "- `HR_RESUMES`: Candidates for staffing solution\n",
    "\n",
    "**Ready to solve the mystery? Let's go! 🕵️‍♂️**\n"
   ]
  },
  {
   "cell_type": "markdown",
   "id": "3df79ef4-8a2a-4572-9c03-74a0710c8b54",
   "metadata": {
    "collapsed": false,
    "name": "Info"
   },
   "source": [
    "# PawCore Intelligence Demo Notebook\n",
    "Consolidated end-to-end setup for the PawCore Intelligence demo in Snowflake. Run cells in order. Headings indicate each section (0–8).\n",
    "\n",
    "- Role used for setup: `ACCOUNTADMIN` (or `SNOWFLAKE_INTELLIGENCE_ADMIN_RL` if available)\n",
    "- Warehouse: `PAWCORE_INTELLIGENCE_WH`\n",
    "- Database/Schemas: `PAWCORE_INTELLIGENCE_DEMO` (`BUSINESS_DATA`, `DOCUMENTS`, `AGENTS`)"
   ]
  },
  {
   "cell_type": "markdown",
   "id": "6645fc9c-ebc0-4441-878b-04d74f415c3c",
   "metadata": {
    "collapsed": false,
    "name": "Story"
   },
   "source": [
    "### Story: The Mystery of the Missing Revenue\n",
    "Q4 revenue beat targets overall by 15%, but EMEA under‑performed by 23% for SmartCollar. Marketing spent 40% more in EMEA, CSAT dropped 15%, and battery‑related support tickets spiked 200%. We’ll unify structured + unstructured signals to find root cause and prevent future losses.\n",
    "\n",
    "### Demo dataset\n",
    "- Download link: [Open the demo data in Google Drive](https://drive.google.com/file/d/1c86Tx06ECshDkC2pdqI59r71FUZEfvPf/view?usp=drive_link)\n",
    "- Permissions: You can run this as `ACCOUNTADMIN`. Optionally, create and use `PAWCORE_DEMO_ROLE` (least‑privilege) in Section 0a and switch in the \"switch_to_demo_role_optional\" cell later.\n",
    "- After you run Sections 0 and 1 (which create the stages), upload the files using the \"Upload files now\" instructions below, then run the quick checks.\n",
    "\n",
    "### Assumptions\n",
    "- You can sign in to the Snowflake UI (Snowsight)\n",
    "- You have `ACCOUNTADMIN` (or equivalent) to create warehouses, databases, schemas, stages, and file formats\n",
    "- You can upload files to internal stages from Snowsight (or via SnowSQL `PUT` if preferred)\n",
    "- Network access allows browser uploads to Snowflake\n",
    "- You have the demo ZIP downloaded locally"
   ]
  },
  {
   "cell_type": "code",
   "execution_count": null,
   "id": "db5014b3-2ece-4119-922f-96263e335932",
   "metadata": {
    "language": "sql",
    "name": "Environment_Setup_SQL"
   },
   "outputs": [],
   "source": [
    "-- 0) Environment setup (one-time, safe re-creates)\n",
    "\n",
    "USE ROLE ACCOUNTADMIN;\n",
    "CREATE WAREHOUSE IF NOT EXISTS PAWCORE_INTELLIGENCE_WH\n",
    "  WAREHOUSE_SIZE = 'XSMALL' AUTO_SUSPEND = 60 AUTO_RESUME = TRUE;\n",
    "\n",
    "CREATE DATABASE IF NOT EXISTS PAWCORE_INTELLIGENCE_DEMO;\n",
    "CREATE SCHEMA IF NOT EXISTS PAWCORE_INTELLIGENCE_DEMO.BUSINESS_DATA;\n",
    "CREATE SCHEMA IF NOT EXISTS PAWCORE_INTELLIGENCE_DEMO.DOCUMENTS;\n",
    "CREATE SCHEMA IF NOT EXISTS PAWCORE_INTELLIGENCE_DEMO.AGENTS;\n",
    "\n",
    "USE DATABASE PAWCORE_INTELLIGENCE_DEMO;\n",
    "USE SCHEMA   BUSINESS_DATA;\n",
    "USE WAREHOUSE PAWCORE_INTELLIGENCE_WH;"
   ]
  },
  {
   "cell_type": "markdown",
   "id": "d6b3736d-285d-447c-8008-ab2d2dfbfcc9",
   "metadata": {
    "collapsed": false,
    "name": "cell2"
   },
   "source": [
    "### 0a) Optional: Minimal demo role\n",
    "Creates a lightweight role for demo users with the least privileges to run this notebook and build semantic views/agents."
   ]
  },
  {
   "cell_type": "markdown",
   "id": "66d620ba-1c23-4537-8941-9820e14a4b2c",
   "metadata": {
    "collapsed": false,
    "name": "cell6"
   },
   "source": [
    "### ACTION REQUIRED: set your Snowflake username\n",
    "Before running the next cell, update the `GRANT ROLE ... TO USER ...;` statement with your Snowflake username (replace any placeholder).\n",
    "\n",
    "To confirm your username, run:\n",
    "```sql\n",
    "SELECT CURRENT_USER();\n",
    "```\n"
   ]
  },
  {
   "cell_type": "code",
   "execution_count": null,
   "id": "ccd5f388-1936-4b36-950c-05c6cb07d860",
   "metadata": {
    "language": "sql",
    "name": "cell7"
   },
   "outputs": [],
   "source": [
    "-- To confirm your username, run:\n",
    "SELECT CURRENT_USER();"
   ]
  },
  {
   "cell_type": "code",
   "execution_count": null,
   "id": "c7ee6281-57d3-4bdc-bec6-e1eaec44885c",
   "metadata": {
    "language": "sql",
    "name": "cell3"
   },
   "outputs": [],
   "source": [
    "-- 0a) (Optional) Create a minimal demo role for customers\n",
    "CREATE ROLE IF NOT EXISTS PAWCORE_DEMO_ROLE;\n",
    "-- Replace <your_user> with your Snowflake username:\n",
    "GRANT ROLE PAWCORE_DEMO_ROLE TO USER CALEXANDER;\n",
    "\n",
    "-- Warehouse access\n",
    "GRANT USAGE ON WAREHOUSE PAWCORE_INTELLIGENCE_WH TO ROLE PAWCORE_DEMO_ROLE;\n",
    "\n",
    "-- Data access and build privileges on BUSINESS_DATA\n",
    "GRANT USAGE ON DATABASE PAWCORE_INTELLIGENCE_DEMO TO ROLE PAWCORE_DEMO_ROLE;\n",
    "GRANT USAGE ON SCHEMA  PAWCORE_INTELLIGENCE_DEMO.BUSINESS_DATA TO ROLE PAWCORE_DEMO_ROLE;\n",
    "GRANT CREATE TABLE, CREATE STAGE, CREATE FILE FORMAT, CREATE SEMANTIC VIEW\n",
    "  ON SCHEMA PAWCORE_INTELLIGENCE_DEMO.BUSINESS_DATA TO ROLE PAWCORE_DEMO_ROLE;\n",
    "\n",
    "-- Table DML\n",
    "GRANT SELECT, INSERT, UPDATE, DELETE ON ALL TABLES IN SCHEMA PAWCORE_INTELLIGENCE_DEMO.BUSINESS_DATA TO ROLE PAWCORE_DEMO_ROLE;\n",
    "GRANT SELECT, INSERT, UPDATE, DELETE ON FUTURE TABLES IN SCHEMA PAWCORE_INTELLIGENCE_DEMO.BUSINESS_DATA TO ROLE PAWCORE_DEMO_ROLE;\n",
    "\n",
    "-- Stage and file format usage\n",
    "GRANT USAGE ON ALL STAGES    IN SCHEMA PAWCORE_INTELLIGENCE_DEMO.BUSINESS_DATA TO ROLE PAWCORE_DEMO_ROLE;\n",
    "GRANT USAGE ON FUTURE STAGES IN SCHEMA PAWCORE_INTELLIGENCE_DEMO.BUSINESS_DATA TO ROLE PAWCORE_DEMO_ROLE;\n",
    "GRANT USAGE ON ALL FILE FORMATS IN SCHEMA PAWCORE_INTELLIGENCE_DEMO.BUSINESS_DATA TO ROLE PAWCORE_DEMO_ROLE;\n",
    "GRANT USAGE ON FUTURE FILE FORMATS IN SCHEMA PAWCORE_INTELLIGENCE_DEMO.BUSINESS_DATA TO ROLE PAWCORE_DEMO_ROLE;\n",
    "\n",
    "-- Agent (optional)\n",
    "GRANT USAGE ON SCHEMA PAWCORE_INTELLIGENCE_DEMO.AGENTS TO ROLE PAWCORE_DEMO_ROLE;\n",
    "GRANT CREATE AGENT ON SCHEMA PAWCORE_INTELLIGENCE_DEMO.AGENTS TO ROLE PAWCORE_DEMO_ROLE;\n",
    "\n",
    "-- Notebook editor permission for Streamlit preview is configured in Snowsight UI (Share/Permissions) and cannot be granted via SQL.\n",
    "-- Run Streamlit cells as the notebook owner role, or duplicate the notebook under your role, or add your role as Editor in Snowsight.\n",
    "-- Do not switch roles here. Use the 'switch_to_demo_role_optional' cell later if desired."
   ]
  },
  {
   "cell_type": "markdown",
   "id": "c09156a3-7117-450d-b255-3a97d6f0f81b",
   "metadata": {
    "collapsed": false,
    "name": "file_format_stages"
   },
   "source": [
    "## 1) File format and stages\n",
    "Defines a reusable CSV file format and creates internal stages for structured and unstructured data (documents/images/audio). Enables directory tables for listing staged files."
   ]
  },
  {
   "cell_type": "code",
   "execution_count": null,
   "id": "15c35fdc",
   "metadata": {
    "vscode": {
     "languageId": "sql"
    }
   },
   "outputs": [],
   "source": [
    "-- Ensure context before creating objects\n",
    "USE ROLE ACCOUNTADMIN;\n",
    "USE DATABASE PAWCORE_INTELLIGENCE_DEMO;\n",
    "USE SCHEMA BUSINESS_DATA;\n",
    "USE WAREHOUSE PAWCORE_INTELLIGENCE_WH;\n"
   ]
  },
  {
   "cell_type": "code",
   "execution_count": null,
   "id": "1d95aad1",
   "metadata": {
    "vscode": {
     "languageId": "sql"
    }
   },
   "outputs": [],
   "source": [
    "-- 1) File format + stages (fully-qualified names)\n",
    "CREATE FILE FORMAT IF NOT EXISTS PAWCORE_INTELLIGENCE_DEMO.BUSINESS_DATA.CSV_FORMAT \n",
    "  TYPE = CSV \n",
    "  FIELD_OPTIONALLY_ENCLOSED_BY = '\"' \n",
    "  SKIP_HEADER = 1\n",
    "  NULL_IF = ('', 'NULL')\n",
    "  TRIM_SPACE = TRUE;\n",
    "\n",
    "CREATE STAGE IF NOT EXISTS PAWCORE_INTELLIGENCE_DEMO.BUSINESS_DATA.INTERNAL_DATA_STAGE \n",
    "  FILE_FORMAT = PAWCORE_INTELLIGENCE_DEMO.BUSINESS_DATA.CSV_FORMAT;\n",
    "CREATE STAGE IF NOT EXISTS PAWCORE_INTELLIGENCE_DEMO.BUSINESS_DATA.DOCUMENT_STAGE;\n",
    "CREATE STAGE IF NOT EXISTS PAWCORE_INTELLIGENCE_DEMO.BUSINESS_DATA.IMAGE_STAGE;\n",
    "CREATE STAGE IF NOT EXISTS PAWCORE_INTELLIGENCE_DEMO.BUSINESS_DATA.AUDIO_STAGE;\n",
    "\n",
    "-- Enable directory tables\n",
    "ALTER STAGE PAWCORE_INTELLIGENCE_DEMO.BUSINESS_DATA.DOCUMENT_STAGE SET DIRECTORY = (ENABLE = TRUE);\n",
    "ALTER STAGE PAWCORE_INTELLIGENCE_DEMO.BUSINESS_DATA.IMAGE_STAGE     SET DIRECTORY = (ENABLE = TRUE);\n",
    "ALTER STAGE PAWCORE_INTELLIGENCE_DEMO.BUSINESS_DATA.AUDIO_STAGE     SET DIRECTORY = (ENABLE = TRUE);\n",
    "ALTER STAGE PAWCORE_INTELLIGENCE_DEMO.BUSINESS_DATA.INTERNAL_DATA_STAGE SET DIRECTORY = (ENABLE = TRUE);\n",
    "\n",
    "-- Default file format on internal stage\n",
    "ALTER STAGE PAWCORE_INTELLIGENCE_DEMO.BUSINESS_DATA.INTERNAL_DATA_STAGE \n",
    "  SET FILE_FORMAT = PAWCORE_INTELLIGENCE_DEMO.BUSINESS_DATA.CSV_FORMAT;\n"
   ]
  },
  {
   "cell_type": "code",
   "execution_count": null,
   "id": "9d6151f6-40df-4162-9db5-46f92061dbac",
   "metadata": {
    "language": "sql",
    "name": "cell5"
   },
   "outputs": [],
   "source": [
    "### Upload files now\n",
    "Note: Do not end or leave this notebook. Open a new browser tab, go to Snowsight → Data → Databases → `PAWCORE_INTELLIGENCE_DEMO` → `BUSINESS_DATA` → Stages, upload the files there, then return to this tab and run the quick checks below.\n",
    "\n",
    "- Internal Data Stage (`@INTERNAL_DATA_STAGE`)\n",
    "  - `pawcore_sales.csv`, `pet_owners.csv`, `device_sales_by_region.csv`, `fitbit_inventory.csv`, `vet_feedback.csv`, `email_campaigns.csv`, `enhanced_sales_data.csv`, `social_media_posts.csv`\n",
    "- Document Stage (`@DOCUMENT_STAGE`)\n",
    "  - Required: `customer_reviews.csv`, `pawcore_slack.csv`\n",
    "  - Optional: `Q4_2024_PawCore_Financial_Report.md`, `Quarterly_Sales_Speech_PawCore.md`, `Sales_Performance_Q4_2024.md`\n",
    "- Image Stage (`@IMAGE_STAGE`)\n",
    "  - `SmartCollar Product Photo.jpeg`, `Customer Journey Infographic.pdf`, `barkour.jpg`\n",
    "- Audio Stage (`@AUDIO_STAGE`)\n",
    "  - `PawCore Quarterly Call.mp3`\n",
    "\n",
    "Expected totals: Internal=8, Document=5 (2+3), Image=3, Audio=1.\n"
   ]
  },
  {
   "cell_type": "markdown",
   "id": "2e1bd66d-46e1-439a-86cc-70e7102b6934",
   "metadata": {
    "collapsed": false,
    "name": "Direc_checks_optional"
   },
   "source": [
    "## 2) Quick directory checks (optional)\n",
    "Utility commands to verify files are present in stages. Uncomment the commands you want to run."
   ]
  },
  {
   "cell_type": "code",
   "execution_count": null,
   "id": "2e529784-71cb-4946-8ea6-c0bac82d3256",
   "metadata": {
    "language": "sql",
    "name": "cell8"
   },
   "outputs": [],
   "source": [
    "-- 2) Quick directory checks (fast counts; no refresh)\n",
    "USE DATABASE PAWCORE_INTELLIGENCE_DEMO;\n",
    "USE SCHEMA BUSINESS_DATA;\n",
    "\n",
    "WITH counts AS (\n",
    "  SELECT 'INTERNAL_DATA_STAGE' AS stage_name,\n",
    "         COUNT(*) AS num_files,\n",
    "         MIN(relative_path) AS sample_file\n",
    "  FROM DIRECTORY(@PAWCORE_INTELLIGENCE_DEMO.BUSINESS_DATA.INTERNAL_DATA_STAGE)\n",
    "  UNION ALL\n",
    "  SELECT 'DOCUMENT_STAGE', COUNT(*), MIN(relative_path)\n",
    "  FROM DIRECTORY(@PAWCORE_INTELLIGENCE_DEMO.BUSINESS_DATA.DOCUMENT_STAGE)\n",
    "  UNION ALL\n",
    "  SELECT 'IMAGE_STAGE', COUNT(*), MIN(relative_path)\n",
    "  FROM DIRECTORY(@PAWCORE_INTELLIGENCE_DEMO.BUSINESS_DATA.IMAGE_STAGE)\n",
    "  UNION ALL\n",
    "  SELECT 'AUDIO_STAGE', COUNT(*), MIN(relative_path)\n",
    "  FROM DIRECTORY(@PAWCORE_INTELLIGENCE_DEMO.BUSINESS_DATA.AUDIO_STAGE)\n",
    ")\n",
    "SELECT stage_name,\n",
    "       num_files,\n",
    "       IFF(num_files > 0, 'PASS', 'WARN') AS status,\n",
    "       COALESCE(sample_file, '') AS sample_file\n",
    "FROM counts\n",
    "ORDER BY stage_name;"
   ]
  },
  {
   "cell_type": "markdown",
   "id": "506cf625",
   "metadata": {},
   "source": [
    "### Optional: Switch to the minimal demo role\n",
    "If you created `PAWCORE_DEMO_ROLE`, you can run the rest of the notebook with least-privilege access. Skip this if you are the admin running the setup.\n",
    "\n"
   ]
  },
  {
   "cell_type": "code",
   "execution_count": null,
   "id": "3bb131c7",
   "metadata": {
    "vscode": {
     "languageId": "sql"
    }
   },
   "outputs": [],
   "source": [
    "-- Switch to demo role (optional)\n",
    "USE ROLE PAWCORE_DEMO_ROLE;\n",
    "USE DATABASE PAWCORE_INTELLIGENCE_DEMO;\n",
    "USE SCHEMA BUSINESS_DATA;\n",
    "USE WAREHOUSE PAWCORE_INTELLIGENCE_WH;\n"
   ]
  },
  {
   "cell_type": "markdown",
   "id": "bb865c5b-3594-4202-b3ba-75869a3762f9",
   "metadata": {
    "collapsed": false,
    "name": "Structured_tables"
   },
   "source": [
    "## 3) Structured tables\n",
    "Creates core relational tables used across sales, customers, devices, inventory, feedback, email campaigns, enhanced sales, and social posts."
   ]
  },
  {
   "cell_type": "code",
   "execution_count": null,
   "id": "b105e5b1-dbd3-4d5b-a3a2-48d9c133a260",
   "metadata": {
    "language": "sql",
    "name": "cell10"
   },
   "outputs": [],
   "source": [
    "-- 3) Structured tables\n",
    "CREATE TABLE IF NOT EXISTS PAWCORE_SALES (\n",
    "  DATE DATE, REGION STRING, PRODUCT STRING,\n",
    "  FORECAST_SALES NUMBER(10,2), ACTUAL_SALES NUMBER(10,2), VARIANCE NUMBER(10,2),\n",
    "  PCT_OF_FORECAST NUMBER(5,2), INVENTORY_UNITS_AVAILABLE INTEGER, MARKETING_ENGAGEMENT_SCORE INTEGER\n",
    ");\n",
    "CREATE TABLE IF NOT EXISTS PET_OWNERS (\n",
    "  CUSTOMER_ID STRING, CUSTOMER_NAME STRING, PET_TYPE STRING, PET_NAME STRING,\n",
    "  REGION STRING, SEGMENT STRING, JOIN_DATE DATE\n",
    ");\n",
    "CREATE TABLE IF NOT EXISTS DEVICE_SALES_BY_REGION (\n",
    "  DATE DATE, REGION STRING, DEVICE_TYPE STRING, UNITS_SOLD INTEGER,\n",
    "  REVENUE NUMBER(10,2), GROWTH_RATE NUMBER(5,2)\n",
    ");\n",
    "CREATE TABLE IF NOT EXISTS FITBIT_INVENTORY (\n",
    "  PRODUCT_ID STRING, PRODUCT_NAME STRING, REGION STRING,\n",
    "  INVENTORY_LEVEL INTEGER, REORDER_POINT INTEGER, LAST_RESTOCK_DATE DATE\n",
    ");\n",
    "CREATE TABLE IF NOT EXISTS VET_FEEDBACK (\n",
    "  FEEDBACK_ID STRING, VET_NAME STRING, PRODUCT STRING, RATING INTEGER,\n",
    "  FEEDBACK_TEXT STRING, DATE DATE, REGION STRING\n",
    ");\n",
    "CREATE TABLE IF NOT EXISTS EMAIL_CAMPAIGNS (\n",
    "  CAMPAIGN_ID STRING, CAMPAIGN_NAME STRING, START_DATE DATE, END_DATE DATE,\n",
    "  REGION STRING, BUDGET NUMBER(10,2), SPEND NUMBER(10,2), CLICKS INTEGER, CONVERSIONS INTEGER\n",
    ");\n",
    "CREATE TABLE IF NOT EXISTS ENHANCED_SALES_DATA (\n",
    "  SALE_ID STRING, DATE DATE, REGION STRING, PRODUCT STRING, CUSTOMER_SEGMENT STRING,\n",
    "  SALES_AMOUNT NUMBER(10,2), DISCOUNT_AMOUNT NUMBER(10,2), NET_SALES NUMBER(10,2)\n",
    ");\n",
    "CREATE TABLE IF NOT EXISTS SOCIAL_MEDIA_POSTS (\n",
    "  POST_ID STRING, PLATFORM STRING, POST_DATE DATE, CONTENT STRING,\n",
    "  ENGAGEMENT_SCORE INTEGER, SENTIMENT STRING, REGION STRING\n",
    ");"
   ]
  },
  {
   "cell_type": "markdown",
   "id": "0068e52c-69af-4b75-9e96-5734bece659e",
   "metadata": {
    "collapsed": false,
    "name": "cell11"
   },
   "source": [
    "### Action required: upload structured CSVs to the internal stage\n",
    "Before running the next cell, upload the structured CSV files to `@INTERNAL_DATA_STAGE` (e.g., `pawcore_sales.csv`, `pet_owners.csv`, `device_sales_by_region.csv`, `fitbit_inventory.csv`, `vet_feedback.csv`, `email_campaigns.csv`, `enhanced_sales_data.csv`, `social_media_posts.csv`).\n",
    "\n",
    "You can use Snowsight’s Stage file upload, or run `PUT` commands from SnowSQL. Verify with:\n",
    "```sql\n",
    "LIST @PAWCORE_INTELLIGENCE_DEMO.BUSINESS_DATA.INTERNAL_DATA_STAGE;\n",
    "```\n"
   ]
  },
  {
   "cell_type": "code",
   "execution_count": null,
   "id": "de6d0208-4c42-4540-b3a6-38c9914b724d",
   "metadata": {
    "language": "sql",
    "name": "cell13"
   },
   "outputs": [],
   "source": [
    "LIST @PAWCORE_INTELLIGENCE_DEMO.BUSINESS_DATA.INTERNAL_DATA_STAGE;"
   ]
  },
  {
   "cell_type": "markdown",
   "id": "c6122464-7168-47d5-b7b3-bb442501bca6",
   "metadata": {
    "collapsed": false,
    "name": "cell9"
   },
   "source": [
    "### Check and reset context (run if you see “object does not exist” errors)\n",
    "This cell shows your current context and re-asserts the expected database/schema/warehouse for the demo.\n"
   ]
  },
  {
   "cell_type": "code",
   "execution_count": null,
   "id": "dac61366-cba5-442d-927f-50326eadc6b9",
   "metadata": {
    "language": "sql",
    "name": "cell19"
   },
   "outputs": [],
   "source": [
    "-- -- Context diagnostics\n",
    "-- SELECT CURRENT_ROLE()   AS ROLE,\n",
    "--        CURRENT_DATABASE() AS DB,\n",
    "--        CURRENT_SCHEMA()   AS SCH,\n",
    "--        CURRENT_WAREHOUSE() AS WH;\n",
    "\n",
    "-- -- Re-assert expected context (safe to re-run)\n",
    "-- USE ROLE ACCOUNTADMIN;\n",
    "-- USE DATABASE PAWCORE_INTELLIGENCE_DEMO;\n",
    "-- USE SCHEMA BUSINESS_DATA;\n",
    "-- USE WAREHOUSE PAWCORE_INTELLIGENCE_WH;"
   ]
  },
  {
   "cell_type": "markdown",
   "id": "990b0015-b863-466f-b9e0-e79e48a1774c",
   "metadata": {
    "collapsed": false,
    "name": "Structured_loads"
   },
   "source": [
    "## 4) Structured loads\n",
    "Loads CSVs from the internal stage into the structured tables, using staging tables where needed and performing type coercion and simple cleansing."
   ]
  },
  {
   "cell_type": "code",
   "execution_count": null,
   "id": "07cad430-91f1-4454-a425-43bdb024e606",
   "metadata": {
    "language": "sql",
    "name": "cell12"
   },
   "outputs": [],
   "source": [
    "-- 4) Structured loads\n",
    "COPY INTO PAWCORE_SALES (DATE, REGION, PRODUCT, FORECAST_SALES, ACTUAL_SALES, VARIANCE, PCT_OF_FORECAST, INVENTORY_UNITS_AVAILABLE, MARKETING_ENGAGEMENT_SCORE)\n",
    "FROM @INTERNAL_DATA_STAGE/pawcore_sales.csv FILE_FORMAT = CSV_FORMAT ON_ERROR = 'CONTINUE';\n",
    "\n",
    "CREATE OR REPLACE TABLE PET_OWNERS_STG (CUSTOMER_NAME STRING, PHONE STRING, EMAIL STRING);\n",
    "TRUNCATE TABLE PET_OWNERS_STG;\n",
    "COPY INTO PET_OWNERS_STG FROM @INTERNAL_DATA_STAGE/pet_owners.csv FILE_FORMAT = CSV_FORMAT FORCE = TRUE ON_ERROR='CONTINUE';\n",
    "INSERT INTO PET_OWNERS (CUSTOMER_ID, CUSTOMER_NAME, PET_TYPE, PET_NAME, REGION, SEGMENT, JOIN_DATE)\n",
    "SELECT UUID_STRING(), CUSTOMER_NAME, NULL, NULL, NULL, NULL, CURRENT_DATE() FROM PET_OWNERS_STG;\n",
    "\n",
    "CREATE OR REPLACE TABLE DEVICE_SALES_BY_REGION_STG AS\n",
    "SELECT $1::STRING AS C1,$2::STRING AS C2,$3::STRING AS C3,$4::STRING AS C4,$5::STRING AS C5,$6::STRING AS C6\n",
    "FROM @INTERNAL_DATA_STAGE/device_sales_by_region.csv (FILE_FORMAT=>'CSV_FORMAT');\n",
    "TRUNCATE TABLE DEVICE_SALES_BY_REGION;\n",
    "INSERT INTO DEVICE_SALES_BY_REGION (DATE, REGION, DEVICE_TYPE, UNITS_SOLD, REVENUE, GROWTH_RATE)\n",
    "SELECT COALESCE(TRY_TO_DATE(s.C1), TRY_TO_DATE(s.C6), TO_DATE('2024-01-01')),\n",
    "       CASE WHEN TRY_TO_DATE(s.C1) IS NULL THEN s.C1 ELSE s.C2 END,\n",
    "       CASE WHEN TRY_TO_DATE(s.C1) IS NULL THEN s.C2 ELSE s.C3 END,\n",
    "       TRY_TO_NUMBER(CASE WHEN TRY_TO_DATE(s.C1) IS NULL THEN s.C3 ELSE s.C4 END),\n",
    "       TRY_TO_NUMBER(REPLACE(REPLACE(CASE WHEN TRY_TO_DATE(s.C1) IS NULL THEN s.C4 ELSE s.C5 END,'$',''),',','')),\n",
    "       TRY_TO_NUMBER(REPLACE(CASE WHEN TRY_TO_DATE(s.C1) IS NULL THEN s.C5 ELSE s.C6 END,'%',''))/100\n",
    "FROM DEVICE_SALES_BY_REGION_STG s;\n",
    "\n",
    "CREATE OR REPLACE TABLE FITBIT_INVENTORY_STG AS\n",
    "SELECT $1::STRING PRODUCT_ID,$2::STRING PRODUCT_NAME,$3::STRING REGION,$4::STRING INVENTORY_LEVEL,$5::STRING REORDER_POINT,$6::STRING LAST_RESTOCK_DATE\n",
    "FROM @INTERNAL_DATA_STAGE/fitbit_inventory.csv (FILE_FORMAT=>'CSV_FORMAT');\n",
    "INSERT INTO FITBIT_INVENTORY (PRODUCT_ID, PRODUCT_NAME, REGION, INVENTORY_LEVEL, REORDER_POINT, LAST_RESTOCK_DATE)\n",
    "SELECT PRODUCT_ID, PRODUCT_NAME, REGION, TRY_TO_NUMBER(INVENTORY_LEVEL)::INT, TRY_TO_NUMBER(REORDER_POINT)::INT, TRY_TO_DATE(LAST_RESTOCK_DATE)\n",
    "FROM FITBIT_INVENTORY_STG;\n",
    "\n",
    "CREATE OR REPLACE TABLE VET_FEEDBACK_STG AS\n",
    "SELECT $1::STRING FEEDBACK_ID,$2::STRING VET_NAME,$3::STRING PRODUCT,$4::STRING RATING,$5::STRING FEEDBACK_TEXT,$6::STRING DT,$7::STRING REGION\n",
    "FROM @INTERNAL_DATA_STAGE/vet_feedback.csv (FILE_FORMAT=>'CSV_FORMAT');\n",
    "INSERT INTO VET_FEEDBACK (FEEDBACK_ID, VET_NAME, PRODUCT, RATING, FEEDBACK_TEXT, DATE, REGION)\n",
    "SELECT FEEDBACK_ID, VET_NAME, PRODUCT, TRY_TO_NUMBER(RATING)::INT, FEEDBACK_TEXT, TRY_TO_DATE(DT), REGION FROM VET_FEEDBACK_STG;\n",
    "\n",
    "CREATE OR REPLACE TABLE EMAIL_CAMPAIGNS_STG AS\n",
    "SELECT $1::STRING CAMPAIGN_ID,$2::STRING CAMPAIGN_NAME,$3::STRING START_DT,$4::STRING TAGLINE,$5::STRING REGION,$6::STRING BUDGET,$7::STRING SPEND,$8::STRING CLICKS,$9::STRING CONVERSIONS\n",
    "FROM @INTERNAL_DATA_STAGE/email_campaigns.csv (FILE_FORMAT=>'CSV_FORMAT');\n",
    "INSERT INTO EMAIL_CAMPAIGNS (CAMPAIGN_ID, CAMPAIGN_NAME, START_DATE, END_DATE, REGION, BUDGET, SPEND, CLICKS, CONVERSIONS)\n",
    "SELECT CAMPAIGN_ID, CAMPAIGN_NAME, TRY_TO_DATE(START_DT), NULL, REGION, TRY_TO_NUMBER(BUDGET), TRY_TO_NUMBER(SPEND), TRY_TO_NUMBER(CLICKS)::INT, TRY_TO_NUMBER(CONVERSIONS)::INT\n",
    "FROM EMAIL_CAMPAIGNS_STG;\n",
    "UPDATE EMAIL_CAMPAIGNS SET END_DATE = DATEADD(day,30,START_DATE) WHERE END_DATE IS NULL AND START_DATE IS NOT NULL;\n",
    "\n",
    "CREATE OR REPLACE TABLE ENHANCED_SALES_DATA_STG AS\n",
    "SELECT $1::STRING SALE_ID,$2::STRING DT,$3::STRING REGION,$4::STRING PRODUCT,$5::STRING CUSTOMER_SEGMENT,$6::STRING SALES_AMOUNT,$7::STRING DISCOUNT_AMOUNT,$8::STRING NET_SALES\n",
    "FROM @INTERNAL_DATA_STAGE/enhanced_sales_data.csv (FILE_FORMAT=>'CSV_FORMAT');\n",
    "INSERT INTO ENHANCED_SALES_DATA (SALE_ID, DATE, REGION, PRODUCT, CUSTOMER_SEGMENT, SALES_AMOUNT, DISCOUNT_AMOUNT, NET_SALES)\n",
    "SELECT SALE_ID, TRY_TO_DATE(DT), REGION, PRODUCT, CUSTOMER_SEGMENT, TRY_TO_NUMBER(SALES_AMOUNT), TRY_TO_NUMBER(DISCOUNT_AMOUNT), TRY_TO_NUMBER(NET_SALES)\n",
    "FROM ENHANCED_SALES_DATA_STG;\n",
    "\n",
    "CREATE OR REPLACE TABLE SOCIAL_MEDIA_POSTS_STG AS\n",
    "SELECT $1::STRING POST_ID,$2::STRING PLATFORM,$3::STRING POST_DT,$4::STRING CONTENT,$5::STRING ENGAGEMENT_SCORE,$6::STRING SENTIMENT,$7::STRING REGION\n",
    "FROM @INTERNAL_DATA_STAGE/social_media_posts.csv (FILE_FORMAT=>'CSV_FORMAT');\n",
    "INSERT INTO SOCIAL_MEDIA_POSTS (POST_ID, PLATFORM, POST_DATE, CONTENT, ENGAGEMENT_SCORE, SENTIMENT, REGION)\n",
    "SELECT POST_ID, PLATFORM, TRY_TO_DATE(POST_DT), CONTENT, TRY_TO_NUMBER(ENGAGEMENT_SCORE)::INT, SENTIMENT, REGION\n",
    "FROM SOCIAL_MEDIA_POSTS_STG;"
   ]
  },
  {
   "cell_type": "markdown",
   "id": "0aed0118",
   "metadata": {},
   "source": [
    "## Optional: Backfill sales data for 2019–2025\n",
    "If your `PAWCORE_SALES` CSV only contains 2018, run the next cell to synthesize years 2019–2025 by shifting 2018 dates forward and applying small growth multipliers. Safe to re‑run; it skips rows that already exist.\n"
   ]
  },
  {
   "cell_type": "code",
   "execution_count": null,
   "id": "a31835e5",
   "metadata": {
    "vscode": {
     "languageId": "sql"
    }
   },
   "outputs": [],
   "source": [
    "-- 3b) Optional backfill for 2019–2025 using 2018 as a template\n",
    "-- Creates missing years by shifting dates and scaling measures slightly\n",
    "WITH base_2018 AS (\n",
    "  SELECT * FROM PAWCORE_SALES WHERE DATE >= '2018-01-01' AND DATE < '2019-01-01'\n",
    "),\n",
    "params AS (\n",
    "  SELECT * FROM (\n",
    "    SELECT 2019 AS year_, 1.03 AS growth UNION ALL\n",
    "    SELECT 2020, 0.98 UNION ALL\n",
    "    SELECT 2021, 1.04 UNION ALL\n",
    "    SELECT 2022, 1.03 UNION ALL\n",
    "    SELECT 2023, 1.02 UNION ALL\n",
    "    SELECT 2024, 1.01 UNION ALL\n",
    "    SELECT 2025, 1.03\n",
    "  )\n",
    ")\n",
    "INSERT INTO PAWCORE_SALES (DATE, REGION, PRODUCT, FORECAST_SALES, ACTUAL_SALES, VARIANCE, PCT_OF_FORECAST, INVENTORY_UNITS_AVAILABLE, MARKETING_ENGAGEMENT_SCORE)\n",
    "SELECT DATEADD(year, p.year_ - 2018, b.DATE) AS DATE,\n",
    "       b.REGION,\n",
    "       b.PRODUCT,\n",
    "       ROUND(b.FORECAST_SALES * p.growth, 2),\n",
    "       ROUND(b.ACTUAL_SALES   * p.growth, 2),\n",
    "       ROUND((b.ACTUAL_SALES * p.growth) - (b.FORECAST_SALES * p.growth), 2) AS VARIANCE,\n",
    "       b.PCT_OF_FORECAST,\n",
    "       b.INVENTORY_UNITS_AVAILABLE,\n",
    "       b.MARKETING_ENGAGEMENT_SCORE\n",
    "FROM base_2018 b\n",
    "JOIN params p\n",
    "  ON TRUE\n",
    "LEFT JOIN PAWCORE_SALES e\n",
    "  ON e.DATE = DATEADD(year, p.year_ - 2018, b.DATE)\n",
    " AND e.REGION = b.REGION\n",
    " AND e.PRODUCT = b.PRODUCT\n",
    "WHERE e.DATE IS NULL;\n"
   ]
  },
  {
   "cell_type": "markdown",
   "id": "52ac2bc0-1502-4cf8-9b13-df7fe24e7e91",
   "metadata": {
    "collapsed": false,
    "name": "cell21"
   },
   "source": [
    "### Reminder: upload unstructured files before running\n",
    "Ensure `customer_reviews.csv` and `pawcore_slack.csv` have been uploaded to `@DOCUMENT_STAGE`. Optional documents, images, and audio can also be uploaded to their respective stages for later demos.\n"
   ]
  },
  {
   "cell_type": "markdown",
   "id": "006478e4-5e5c-48f4-b513-ddff0ff294fe",
   "metadata": {
    "collapsed": false,
    "name": "Structured_loads_verif"
   },
   "source": [
    "## 5) Structured loads verification\n",
    "Run the next cell to confirm row counts across all structured tables. It uses fully-qualified names so it works regardless of session context."
   ]
  },
  {
   "cell_type": "code",
   "execution_count": null,
   "id": "98f5cfc4-8939-4bd5-9326-3c8fc45c4559",
   "metadata": {
    "language": "sql",
    "name": "cell22"
   },
   "outputs": [],
   "source": [
    "SELECT 'PAWCORE_SALES', COUNT(*) FROM PAWCORE_INTELLIGENCE_DEMO.BUSINESS_DATA.PAWCORE_SALES\n",
    "UNION ALL SELECT 'PET_OWNERS', COUNT(*) FROM PAWCORE_INTELLIGENCE_DEMO.BUSINESS_DATA.PET_OWNERS\n",
    "UNION ALL SELECT 'DEVICE_SALES_BY_REGION', COUNT(*) FROM PAWCORE_INTELLIGENCE_DEMO.BUSINESS_DATA.DEVICE_SALES_BY_REGION\n",
    "UNION ALL SELECT 'FITBIT_INVENTORY', COUNT(*) FROM PAWCORE_INTELLIGENCE_DEMO.BUSINESS_DATA.FITBIT_INVENTORY\n",
    "UNION ALL SELECT 'VET_FEEDBACK', COUNT(*) FROM PAWCORE_INTELLIGENCE_DEMO.BUSINESS_DATA.VET_FEEDBACK\n",
    "UNION ALL SELECT 'EMAIL_CAMPAIGNS', COUNT(*) FROM PAWCORE_INTELLIGENCE_DEMO.BUSINESS_DATA.EMAIL_CAMPAIGNS\n",
    "UNION ALL SELECT 'ENHANCED_SALES_DATA', COUNT(*) FROM PAWCORE_INTELLIGENCE_DEMO.BUSINESS_DATA.ENHANCED_SALES_DATA\n",
    "UNION ALL SELECT 'SOCIAL_MEDIA_POSTS', COUNT(*) FROM PAWCORE_INTELLIGENCE_DEMO.BUSINESS_DATA.SOCIAL_MEDIA_POSTS;"
   ]
  },
  {
   "cell_type": "markdown",
   "id": "dec259b4-097c-423c-9f4d-7522ef9093a3",
   "metadata": {
    "collapsed": false,
    "name": "cell25"
   },
   "source": []
  },
  {
   "cell_type": "markdown",
   "id": "55752240-42a1-4496-9a33-79bac19f7d32",
   "metadata": {
    "collapsed": false,
    "name": "Unstructured_data"
   },
   "source": [
    "## 6) Unstructured data (Slack, Reviews)\n",
    "Creates tables for Slack messages and customer reviews. Loads the CSVs, enriches Slack with sentiment using Cortex, and stores reviews with basic metadata."
   ]
  },
  {
   "cell_type": "code",
   "execution_count": null,
   "id": "53f328d2-ad08-4987-b8f6-64101d6c3fd4",
   "metadata": {
    "language": "sql",
    "name": "cell16"
   },
   "outputs": [],
   "source": [
    "-- 6) Unstructured CSVs (Slack, Reviews)\n",
    "CREATE OR REPLACE TABLE SLACK_MESSAGES (\n",
    "  MESSAGE_ID STRING, CHANNEL STRING, AUTHOR STRING, MESSAGE_TEXT STRING, TIMESTAMP TIMESTAMP, SENTIMENT STRING\n",
    ");\n",
    "CREATE OR REPLACE TABLE CUSTOMER_REVIEWS (\n",
    "  REVIEW_ID STRING, DATE DATE, PRODUCT STRING, CUSTOMER_NAME STRING, RATING INTEGER, REVIEW_TEXT STRING, SENTIMENT STRING,\n",
    "  REVIEW_CATEGORY STRING, VERIFIED_PURCHASE STRING, HELPFUL_VOTES INTEGER, REVIEW_LENGTH INTEGER, REGION STRING, CUSTOMER_SEGMENT STRING\n",
    ");\n",
    "\n",
    "-- Slack load via staging (file has 4 columns)\n",
    "CREATE OR REPLACE TABLE SLACK_MESSAGES_STG (\n",
    "  URL STRING, CHANNEL STRING, TS STRING, TEXT STRING\n",
    ");\n",
    "COPY INTO SLACK_MESSAGES_STG\n",
    "FROM @DOCUMENT_STAGE/pawcore_slack.csv\n",
    "FILE_FORMAT=CSV_FORMAT\n",
    "FORCE=TRUE\n",
    "ON_ERROR='CONTINUE';\n",
    "\n",
    "TRUNCATE TABLE SLACK_MESSAGES;\n",
    "INSERT INTO SLACK_MESSAGES (MESSAGE_ID, CHANNEL, AUTHOR, MESSAGE_TEXT, TIMESTAMP, SENTIMENT)\n",
    "SELECT TS,\n",
    "       CHANNEL,\n",
    "       NULL,\n",
    "       TEXT,\n",
    "       TO_TIMESTAMP_NTZ(TRY_TO_NUMBER(SUBSTR(TS,1,10))),\n",
    "       NULL\n",
    "FROM SLACK_MESSAGES_STG;\n",
    "\n",
    "-- Sentiment enrichment\n",
    "UPDATE SLACK_MESSAGES\n",
    "SET SENTIMENT = SNOWFLAKE.CORTEX.SENTIMENT(MESSAGE_TEXT)\n",
    "WHERE SENTIMENT IS NULL;\n",
    "\n",
    "-- Customer reviews load\n",
    "COPY INTO CUSTOMER_REVIEWS\n",
    "FROM @DOCUMENT_STAGE/customer_reviews.csv\n",
    "FILE_FORMAT=CSV_FORMAT\n",
    "FORCE=TRUE\n",
    "ON_ERROR='CONTINUE';"
   ]
  },
  {
   "cell_type": "markdown",
   "id": "b304c8e6-fe24-463a-a6b3-80ca2b029a99",
   "metadata": {
    "collapsed": false,
    "name": "Unstructured_loads_verif"
   },
   "source": [
    "## 7) Unstructured loads verification\n",
    "Row counts for Slack messages and customer reviews."
   ]
  },
  {
   "cell_type": "code",
   "execution_count": null,
   "id": "60613ba9-22f5-4a08-9d04-5dc8e5a3d4c4",
   "metadata": {
    "language": "sql",
    "name": "cell18"
   },
   "outputs": [],
   "source": [
    "-- 7) Unstructured loads verification\n",
    "SELECT 'SLACK_MESSAGES', COUNT(*) FROM SLACK_MESSAGES\n",
    "UNION ALL SELECT 'CUSTOMER_REVIEWS', COUNT(*) FROM CUSTOMER_REVIEWS;"
   ]
  },
  {
   "cell_type": "markdown",
   "id": "f0f6de0d-c2c9-4f3c-98cc-5293eb4e1ed0",
   "metadata": {
    "collapsed": false,
    "name": "Cleanup_optional"
   },
   "source": [
    "## 8) Cleanup (one-step full reset)\n",
    "Run this to remove everything created by this notebook and return the account to its prior state. This drops the demo database (with all schemas/tables/semantic views), the demo warehouse, and the optional demo role."
   ]
  },
  {
   "cell_type": "code",
   "execution_count": null,
   "id": "447a8179-4c8a-4b3f-86e8-fdebfdafefd4",
   "metadata": {
    "language": "sql",
    "name": "cell20"
   },
   "outputs": [],
   "source": [
    "-- 8) Cleanup (full reset)\n",
    "-- WARNING: This will drop all demo objects created by this notebook\n",
    "USE ROLE ACCOUNTADMIN;\n",
    "\n",
    "-- Drop database (schemas, tables, stages, semantic views)\n",
    "DROP DATABASE IF EXISTS PAWCORE_INTELLIGENCE_DEMO CASCADE;\n",
    "\n",
    "-- Drop warehouse\n",
    "DROP WAREHOUSE IF EXISTS PAWCORE_INTELLIGENCE_WH;\n",
    "\n",
    "-- Drop optional demo role (if created)\n",
    "DROP ROLE IF EXISTS PAWCORE_DEMO_ROLE;"
   ]
  }
 ],
 "metadata": {
  "kernelspec": {
   "display_name": "Streamlit Notebook",
   "name": "streamlit"
  },
  "lastEditStatus": {
   "authorEmail": "caleb.alexander@snowflake.com",
   "authorId": "3161816716563",
   "authorName": "CALEXANDER",
   "lastEditTime": 1755114878181,
   "notebookId": "cyy7hggxmxxlrqt5f5co",
   "sessionId": "65e95292-1f94-448e-bd15-d380e7da0f04"
  }
 },
 "nbformat": 4,
 "nbformat_minor": 5
}

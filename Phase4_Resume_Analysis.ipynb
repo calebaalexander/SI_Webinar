{
  "cells": [
    {
      "cell_type": "markdown",
      "metadata": {},
      "source": [
        "# Resume Analysis for Quality Control Position\n",
        "\n",
        "This notebook demonstrates how to use AI_EXTRACT and related functions to analyze resumes and identify the ideal candidate for our Quality Control position. We'll follow these steps:\n",
        "\n",
        "1. Parse and load resumes into our system\n",
        "2. Extract key information using AI_EXTRACT\n",
        "3. Classify candidates by experience level\n",
        "4. Perform detailed analysis of top candidates\n",
        "5. Generate interview questions for final candidates\n"
      ]
    },
    {
      "cell_type": "code",
      "execution_count": null,
      "metadata": {
        "vscode": {
          "languageId": "sql"
        }
      },
      "outputs": [],
      "source": [
        "-- Initialize environment and verify stage\n",
        "USE ROLE PAWCORE_DEMO;\n",
        "USE WAREHOUSE PAWCORE_DEMO_WH;\n",
        "USE DATABASE PAWCORE_ANALYTICS;\n",
        "USE SCHEMA UNSTRUCTURED;\n",
        "\n",
        "-- Create stage if not exists\n",
        "CREATE OR REPLACE STAGE RESUME_DOCS \n",
        "    DIRECTORY = (ENABLE = true AUTO_REFRESH = TRUE) \n",
        "    ENCRYPTION = (TYPE = 'SNOWFLAKE_SSE');\n"
      ]
    },
    {
      "cell_type": "code",
      "execution_count": null,
      "metadata": {
        "vscode": {
          "languageId": "sql"
        }
      },
      "outputs": [],
      "source": [
        "-- Create candidates table with parsed resume content\n",
        "CREATE OR REPLACE TABLE candidates AS \n",
        "SELECT \n",
        "    json_data:response.name::STRING as name,\n",
        "    json_data:response.email::STRING as email,\n",
        "    json_data:response.phone::STRING as phone_number,\n",
        "    resume_text,\n",
        "    relative_path as resume_file_path\n",
        "FROM (\n",
        "    SELECT \n",
        "        relative_path,\n",
        "        AI_EXTRACT(\n",
        "            file => TO_FILE('@RESUME_DOCS', relative_path),\n",
        "            responseFormat => [\n",
        "                ['name', 'What is the name of the resume applicant?'], \n",
        "                ['email', 'What is the email of the resume applicant?'],\n",
        "                ['phone', 'What is the phone number of the resume applicant?']\n",
        "            ]\n",
        "        ) as json_data,\n",
        "        SNOWFLAKE.CORTEX.PARSE_DOCUMENT('@RESUME_DOCS', relative_path):content::STRING AS resume_text\n",
        "    FROM DIRECTORY(@RESUME_DOCS)\n",
        "    WHERE relative_path LIKE '%.pdf'\n",
        ");\n",
        "\n",
        "-- Verify data loaded\n",
        "SELECT * FROM candidates;\n"
      ]
    },
    {
      "cell_type": "code",
      "execution_count": null,
      "metadata": {
        "vscode": {
          "languageId": "sql"
        }
      },
      "outputs": [],
      "source": [
        "-- Classify candidates by experience level and extract key skills\n",
        "CREATE OR REPLACE TEMPORARY TABLE candidate_analysis AS\n",
        "SELECT \n",
        "    name,\n",
        "    email,\n",
        "    AI_CLASSIFY(\n",
        "        resume_text, \n",
        "        ['entry level', 'management level', 'executive level'],\n",
        "        {\n",
        "            'task_description':'Categorize the candidate based on years of experience and role level'\n",
        "        }\n",
        "    ):labels[0]::string as experience_level,\n",
        "    AI_EXTRACT(\n",
        "        resume_text,\n",
        "        responseFormat => [\n",
        "            ['years_qc', 'How many years of quality control experience?'],\n",
        "            ['battery_exp', 'What is their level of battery technology expertise? (None/Basic/Advanced/Expert)'],\n",
        "            ['certifications', 'List all relevant quality and technical certifications'],\n",
        "            ['env_testing', 'Describe their environmental testing experience']\n",
        "        ]\n",
        "    ) as skills_analysis\n",
        "FROM candidates;\n"
      ]
    },
    {
      "cell_type": "code",
      "execution_count": null,
      "metadata": {
        "vscode": {
          "languageId": "sql"
        }
      },
      "outputs": [],
      "source": [
        "-- Analyze common skills by experience level\n",
        "SELECT \n",
        "    experience_level,\n",
        "    AI_AGG(\n",
        "        resume_text, \n",
        "        'What are the common technical skills and certifications across these resumes? List them in an array []'\n",
        "    ) AS common_skills\n",
        "FROM candidate_analysis c\n",
        "JOIN candidates ca ON c.email = ca.email\n",
        "GROUP BY experience_level;\n"
      ]
    },
    {
      "cell_type": "code",
      "execution_count": null,
      "metadata": {
        "vscode": {
          "languageId": "sql"
        }
      },
      "outputs": [],
      "source": [
        "-- Create job requirements table\n",
        "CREATE OR REPLACE TABLE job_requirements (\n",
        "    requirement_id INTEGER AUTOINCREMENT,\n",
        "    category VARCHAR,\n",
        "    description VARCHAR,\n",
        "    importance INTEGER, -- 1-5 scale\n",
        "    required BOOLEAN\n",
        ");\n",
        "\n",
        "-- Insert our specific requirements\n",
        "INSERT INTO job_requirements (category, description, importance, required) VALUES\n",
        "    ('Technical', 'Battery technology and quality control expertise', 5, TRUE),\n",
        "    ('Technical', 'Experience with moisture-sensitive electronics', 5, TRUE),\n",
        "    ('Certification', 'IEEE Battery Professional certification', 4, TRUE),\n",
        "    ('Standards', 'International quality standards knowledge (ISO, IEC)', 4, TRUE),\n",
        "    ('Experience', 'Manufacturing process expertise', 4, TRUE),\n",
        "    ('Technical', 'Environmental testing background', 3, FALSE),\n",
        "    ('Soft Skills', 'Team leadership experience', 3, FALSE),\n",
        "    ('Experience', 'Process improvement track record', 4, TRUE);\n"
      ]
    },
    {
      "cell_type": "code",
      "execution_count": null,
      "metadata": {
        "vscode": {
          "languageId": "sql"
        }
      },
      "outputs": [],
      "source": [
        "-- Match candidates against job requirements\n",
        "SELECT \n",
        "    c.name,\n",
        "    c.email,\n",
        "    ca.experience_level,\n",
        "    AI_FILTER(\n",
        "        PROMPT(\n",
        "            'Does this resume {0} meet the following requirement: {1}?',\n",
        "            c.resume_text,\n",
        "            r.description\n",
        "        )\n",
        "    ) as meets_requirement,\n",
        "    r.category,\n",
        "    r.description\n",
        "FROM candidates c\n",
        "JOIN candidate_analysis ca ON c.email = ca.email\n",
        "CROSS JOIN job_requirements r\n",
        "WHERE r.required = TRUE\n",
        "ORDER BY c.name, r.category;\n"
      ]
    },
    {
      "cell_type": "code",
      "execution_count": null,
      "metadata": {
        "vscode": {
          "languageId": "sql"
        }
      },
      "outputs": [],
      "source": [
        "-- Detailed analysis of top candidate\n",
        "WITH top_candidate AS (\n",
        "    SELECT c.*\n",
        "    FROM candidates c\n",
        "    WHERE EXISTS (\n",
        "        SELECT 1 \n",
        "        FROM candidate_analysis ca \n",
        "        WHERE c.email = ca.email \n",
        "        AND ca.skills_analysis:battery_exp::STRING = 'Expert'\n",
        "        AND ca.experience_level IN ('management level', 'executive level')\n",
        "    )\n",
        ")\n",
        "SELECT\n",
        "    name,\n",
        "    email,\n",
        "    AI_EXTRACT(\n",
        "        resume_text,\n",
        "        $$Provide a detailed evaluation of this candidate:\n",
        "        \n",
        "        1. Battery Technology Expertise:\n",
        "        - Specific types of batteries worked with\n",
        "        - Testing methodologies used\n",
        "        - Relevant certifications and dates\n",
        "        \n",
        "        2. Quality Control Experience:\n",
        "        - Years in QC role\n",
        "        - Size of teams managed\n",
        "        - Key achievements\n",
        "        \n",
        "        3. Environmental Testing:\n",
        "        - Experience with moisture sensitivity\n",
        "        - Testing procedures developed\n",
        "        - Problem-solving examples\n",
        "        \n",
        "        4. Manufacturing Knowledge:\n",
        "        - Types of manufacturing environments\n",
        "        - Process improvements implemented\n",
        "        - Scale of operations\n",
        "        \n",
        "        5. Relevance to Lot 341 Issues:\n",
        "        - Similar challenges handled\n",
        "        - Applicable experience\n",
        "        - Potential contributions$$\n",
        "    ) as detailed_evaluation\n",
        "FROM top_candidate;\n"
      ]
    },
    {
      "cell_type": "code",
      "execution_count": null,
      "metadata": {
        "vscode": {
          "languageId": "sql"
        }
      },
      "outputs": [],
      "source": [
        "-- Generate technical interview questions\n",
        "WITH top_candidate AS (\n",
        "    SELECT c.*\n",
        "    FROM candidates c\n",
        "    WHERE EXISTS (\n",
        "        SELECT 1 \n",
        "        FROM candidate_analysis ca \n",
        "        WHERE c.email = ca.email \n",
        "        AND ca.skills_analysis:battery_exp::STRING = 'Expert'\n",
        "        AND ca.experience_level IN ('management level', 'executive level')\n",
        "    )\n",
        ")\n",
        "SELECT\n",
        "    name,\n",
        "    AI_EXTRACT(\n",
        "        resume_text,\n",
        "        $$Based on this candidate's experience, generate 5 technical interview questions:\n",
        "        \n",
        "        Focus areas:\n",
        "        1. Battery QC procedures and standards\n",
        "        2. Moisture sensitivity testing methods\n",
        "        3. Manufacturing process improvement\n",
        "        4. Team leadership in quality control\n",
        "        5. Problem-solving approach\n",
        "        \n",
        "        For each question:\n",
        "        - What specific experience are you validating?\n",
        "        - What would be a strong answer?\n",
        "        - What follow-up questions would be appropriate?$$\n",
        "    ) as interview_questions\n",
        "FROM top_candidate;\n"
      ]
    },
    {
      "cell_type": "markdown",
      "metadata": {},
      "source": [
        "# Resume Analysis Using AI_EXTRACT\n",
        "\n",
        "This notebook demonstrates how to use AI_EXTRACT to analyze resumes and identify the ideal candidate for our Quality Control position.\n",
        "\n",
        "## Required Skills and Experience\n",
        "- Battery technology and quality control expertise\n",
        "- Experience with moisture-sensitive electronics\n",
        "- International quality standards knowledge (ISO, IEC)\n",
        "- Manufacturing process expertise\n",
        "- Environmental testing background\n",
        "\n",
        "## Setup Instructions\n",
        "1. Ensure all resumes are loaded into the UNSTRUCTURED.PARSED_DOCUMENTS table\n",
        "2. Verify the PAWCORE_DEMO role and warehouse are available\n",
        "3. Run each cell in sequence\n"
      ]
    },
    {
      "cell_type": "code",
      "execution_count": null,
      "metadata": {
        "vscode": {
          "languageId": "sql"
        }
      },
      "outputs": [],
      "source": [
        "-- Initialize environment\n",
        "USE ROLE PAWCORE_DEMO;\n",
        "USE WAREHOUSE PAWCORE_DEMO_WH;\n",
        "USE DATABASE PAWCORE_ANALYTICS;\n",
        "USE SCHEMA UNSTRUCTURED;\n",
        "\n",
        "-- Verify resumes are loaded\n",
        "SELECT COUNT(*) as resume_count,\n",
        "       COUNT(DISTINCT file_name) as unique_resumes\n",
        "FROM PARSED_DOCUMENTS\n",
        "WHERE file_name LIKE '%resume%';\n"
      ]
    },
    {
      "cell_type": "code",
      "execution_count": null,
      "metadata": {
        "vscode": {
          "languageId": "sql"
        }
      },
      "outputs": [],
      "source": [
        "-- Initial screening of all resumes\n",
        "WITH resume_screening AS (\n",
        "    SELECT \n",
        "        file_name,\n",
        "        AI_EXTRACT(\n",
        "            content,\n",
        "            $$Extract and structure the following information:\n",
        "            1. Years of QA/QC experience\n",
        "            2. Battery/electronics expertise level (None, Basic, Advanced, Expert)\n",
        "            3. Relevant certifications (list all)\n",
        "            4. Manufacturing experience (years and type)\n",
        "            5. Environmental testing knowledge (describe)$$\n",
        "        ) as qualifications\n",
        "    FROM PARSED_DOCUMENTS\n",
        "    WHERE file_name LIKE '%resume%'\n",
        ")\n",
        "SELECT\n",
        "    file_name,\n",
        "    qualifications,\n",
        "    -- Score candidates based on extracted information\n",
        "    AI_EXTRACT(\n",
        "        qualifications,\n",
        "        $$Score this candidate from 0-100 based on our requirements:\n",
        "        - Battery technology expertise (30 points)\n",
        "        - Moisture-sensitive electronics experience (25 points)\n",
        "        - Quality control background (20 points)\n",
        "        - Manufacturing knowledge (15 points)\n",
        "        - Relevant certifications (10 points)\n",
        "        \n",
        "        Return the score and a brief explanation.$$\n",
        "    ) as candidate_score\n",
        "FROM resume_screening\n",
        "ORDER BY file_name;\n"
      ]
    },
    {
      "cell_type": "code",
      "execution_count": null,
      "metadata": {
        "vscode": {
          "languageId": "sql"
        }
      },
      "outputs": [],
      "source": [
        "-- Detailed analysis of top candidate (IEEE certified)\n",
        "WITH top_candidate AS (\n",
        "    SELECT \n",
        "        file_name,\n",
        "        content\n",
        "    FROM PARSED_DOCUMENTS\n",
        "    WHERE file_name LIKE '%resume%'\n",
        "    AND CONTAINS(content, 'IEEE Certified Battery Professional')\n",
        ")\n",
        "SELECT\n",
        "    file_name,\n",
        "    AI_EXTRACT(\n",
        "        content,\n",
        "        $$Provide a detailed analysis of this candidate's qualifications:\n",
        "        \n",
        "        1. Battery Technology Experience:\n",
        "        - Years of experience\n",
        "        - Types of batteries worked with\n",
        "        - Testing methodologies used\n",
        "        \n",
        "        2. Moisture Sensitivity Expertise:\n",
        "        - Specific experience with moisture-sensitive electronics\n",
        "        - Environmental testing procedures\n",
        "        - Problem-solving examples\n",
        "        \n",
        "        3. Quality Control Background:\n",
        "        - QC methodologies used\n",
        "        - Size of teams managed\n",
        "        - Process improvements implemented\n",
        "        \n",
        "        4. Certifications and Standards:\n",
        "        - List all relevant certifications\n",
        "        - International standards expertise\n",
        "        - Year obtained for each\n",
        "        \n",
        "        5. Relevance to Our Needs:\n",
        "        - How their experience aligns with our Lot 341 issues\n",
        "        - Potential contributions to preventing future issues\n",
        "        - Areas where additional training might be needed$$\n",
        "    ) as detailed_analysis\n",
        "FROM top_candidate;\n"
      ]
    },
    {
      "cell_type": "code",
      "execution_count": null,
      "metadata": {
        "vscode": {
          "languageId": "sql"
        }
      },
      "outputs": [],
      "source": [
        "-- Generate interview questions based on candidate profile\n",
        "WITH top_candidate AS (\n",
        "    SELECT \n",
        "        file_name,\n",
        "        content,\n",
        "        AI_EXTRACT(content, 'Summarize key strengths and potential areas for growth') as profile\n",
        "    FROM PARSED_DOCUMENTS\n",
        "    WHERE file_name LIKE '%resume%'\n",
        "    AND CONTAINS(content, 'IEEE Certified Battery Professional')\n",
        ")\n",
        "SELECT\n",
        "    file_name,\n",
        "    AI_EXTRACT(\n",
        "        profile,\n",
        "        $$Generate 5 technical interview questions specific to this candidate's background:\n",
        "        \n",
        "        Focus areas:\n",
        "        1. Battery quality control procedures\n",
        "        2. Moisture sensitivity testing\n",
        "        3. Manufacturing process improvement\n",
        "        4. Team leadership in QC\n",
        "        5. International standards implementation\n",
        "        \n",
        "        For each question, explain what you're evaluating.$$\n",
        "    ) as interview_questions\n",
        "FROM top_candidate;\n"
      ]
    },
    {
      "cell_type": "markdown",
      "metadata": {},
      "source": [
        "# PawCore Phase 4: Resume Analysis\n",
        "\n",
        "This notebook uses AI_EXTRACT to analyze resumes and find the ideal candidate for our Quality Control position. We're looking for someone with:\n",
        "1. Experience with battery technology and quality control\n",
        "2. Knowledge of moisture-sensitive electronics\n",
        "3. International quality standards expertise\n",
        "4. Strong manufacturing background\n"
      ]
    },
    {
      "cell_type": "code",
      "execution_count": null,
      "metadata": {
        "vscode": {
          "languageId": "sql"
        }
      },
      "outputs": [],
      "source": [
        "-- Set up our environment\n",
        "USE ROLE PAWCORE_DEMO;\n",
        "USE WAREHOUSE PAWCORE_DEMO_WH;\n",
        "USE DATABASE PAWCORE_ANALYTICS;\n",
        "\n",
        "-- Verify resumes are loaded\n",
        "SELECT COUNT(*) as resume_count \n",
        "FROM UNSTRUCTURED.PARSED_DOCUMENTS\n",
        "WHERE file_name LIKE '%resume%';\n"
      ]
    },
    {
      "cell_type": "code",
      "execution_count": null,
      "metadata": {
        "vscode": {
          "languageId": "sql"
        }
      },
      "outputs": [],
      "source": [
        "-- Extract key qualifications from resumes\n",
        "WITH resume_analysis AS (\n",
        "    SELECT \n",
        "        file_name,\n",
        "        AI_EXTRACT(\n",
        "            content,\n",
        "            'Extract the following information:\n",
        "            1. Years of quality control experience\n",
        "            2. Battery/electronics expertise\n",
        "            3. Relevant certifications\n",
        "            4. Manufacturing experience\n",
        "            5. Environmental testing knowledge'\n",
        "        ) as qualifications\n",
        "    FROM UNSTRUCTURED.PARSED_DOCUMENTS\n",
        "    WHERE file_name LIKE '%resume%'\n",
        ")\n",
        "SELECT\n",
        "    file_name,\n",
        "    qualifications,\n",
        "    AI_EXTRACT(\n",
        "        qualifications,\n",
        "        'Rate this candidate from 1-10 for our Quality Control position, considering:\n",
        "        - Battery technology expertise\n",
        "        - Moisture-sensitive electronics experience\n",
        "        - Quality control background\n",
        "        - Manufacturing process knowledge\n",
        "        Explain the rating.'\n",
        "    ) as candidate_evaluation\n",
        "FROM resume_analysis;\n"
      ]
    },
    {
      "cell_type": "code",
      "execution_count": null,
      "metadata": {
        "vscode": {
          "languageId": "sql"
        }
      },
      "outputs": [],
      "source": [
        "-- Detailed analysis of top candidate\n",
        "SELECT\n",
        "    file_name,\n",
        "    AI_EXTRACT(\n",
        "        content,\n",
        "        'For the candidate with IEEE Certified Battery Professional certification:\n",
        "        1. Summarize their experience with moisture-sensitive electronics\n",
        "        2. Detail their quality control methodology\n",
        "        3. List their international standards expertise\n",
        "        4. Describe their manufacturing experience\n",
        "        5. Explain how their skills match our specific needs regarding the Lot 341 issues'\n",
        "    ) as detailed_analysis\n",
        "FROM UNSTRUCTURED.PARSED_DOCUMENTS\n",
        "WHERE file_name LIKE '%resume%'\n",
        "AND CONTAINS(content, 'IEEE Certified Battery Professional');\n"
      ]
    }
  ],
  "metadata": {
    "language_info": {
      "name": "python"
    }
  },
  "nbformat": 4,
  "nbformat_minor": 2
}

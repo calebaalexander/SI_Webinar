{
  "cells": [
    {
      "cell_type": "markdown",
      "metadata": {},
      "source": [
        "# PawCore Phase 1: Initial Problem Analysis\n",
        "\n",
        "This notebook uses AISQL functions to analyze our Q4 2024 performance issues:\n",
        "1. AI_EXTRACT: Analyze financial reports\n",
        "2. AI_SENTIMENT: Analyze customer reviews\n",
        "3. AI_SUMMARIZE_AGG: Analyze Slack communications\n"
      ]
    },
    {
      "cell_type": "code",
      "execution_count": null,
      "metadata": {
        "vscode": {
          "languageId": "sql"
        }
      },
      "outputs": [],
      "source": [
        "-- Set up our environment\n",
        "USE ROLE accountadmin;\n",
        "USE WAREHOUSE PAWCORE_DEMO_WH;\n",
        "USE DATABASE PAWCORE_ANALYTICS;\n",
        "USE SCHEMA UNSTRUCTURED;\n",
        "\n",
        "-- Verify our data is loaded\n",
        "SELECT COUNT(*) as doc_count FROM PARSED_DOCUMENTS\n",
        "WHERE file_name LIKE '%Q4_2024_PawCore_Financial_Report.md%';\n"
      ]
    },
    {
      "cell_type": "code",
      "execution_count": null,
      "metadata": {
        "vscode": {
          "languageId": "sql"
        }
      },
      "outputs": [],
      "source": [
        "-- Extract key financial metrics from Q4 report\n",
        "SELECT\n",
        "    AI_EXTRACT(\n",
        "        content,\n",
        "        'Extract the following metrics from this financial report:\n",
        "        1. Total revenue and forecast\n",
        "        2. Revenue by region\n",
        "        3. Revenue by product\n",
        "        4. Key performance issues'\n",
        "    ) as financial_analysis\n",
        "FROM UNSTRUCTURED.PARSED_DOCUMENTS\n",
        "WHERE file_name LIKE '%Q4_2024_PawCore_Financial_Report.md%';\n"
      ]
    },
    {
      "cell_type": "code",
      "execution_count": null,
      "metadata": {
        "vscode": {
          "languageId": "sql"
        }
      },
      "outputs": [],
      "source": [
        "-- Analyze Q4 2024 customer reviews with focus on SmartCollar and EMEA\n",
        "WITH review_data AS (\n",
        "    SELECT \n",
        "        REVIEW_TEXT,\n",
        "        PRODUCT,\n",
        "        REGION,\n",
        "        DATE\n",
        "    FROM @PAWCORE_DATA_STAGE/documents/customer_reviews.csv\n",
        "    (FILE_FORMAT => CSV_FORMAT)\n",
        "    WHERE DATE >= '2024-10-01' \n",
        "    AND DATE <= '2024-12-31'\n",
        "    AND PRODUCT = 'SmartCollar'\n",
        "    AND REGION = 'EMEA'\n",
        ")\n",
        "SELECT\n",
        "    AI_SENTIMENT(REVIEW_TEXT) as sentiment_score,\n",
        "    AI_EXTRACT(REVIEW_TEXT, 'What specific issues are mentioned in this review?') as issues,\n",
        "    DATE,\n",
        "    REVIEW_TEXT\n",
        "FROM review_data\n",
        "ORDER BY DATE;\n"
      ]
    },
    {
      "cell_type": "code",
      "execution_count": null,
      "metadata": {
        "vscode": {
          "languageId": "sql"
        }
      },
      "outputs": [],
      "source": [
        "-- Analyze Slack messages for Q4 2024 focusing on SmartCollar issues\n",
        "WITH slack_data AS (\n",
        "    SELECT \n",
        "        TEXT,\n",
        "        SLACK_CHANNEL,\n",
        "        TO_TIMESTAMP(THREAD_ID) as timestamp\n",
        "    FROM @PAWCORE_DATA_STAGE/documents/pawcore_slack.csv\n",
        "    (FILE_FORMAT => CSV_FORMAT)\n",
        "    WHERE TO_TIMESTAMP(THREAD_ID) >= '2024-10-01'\n",
        "    AND TO_TIMESTAMP(THREAD_ID) <= '2024-12-31'\n",
        "    AND (LOWER(TEXT) LIKE '%smartcollar%' OR LOWER(TEXT) LIKE '%lot 341%')\n",
        ")\n",
        "SELECT\n",
        "    AI_SUMMARIZE_AGG(\n",
        "        TEXT,\n",
        "        'Summarize the key events and timeline regarding SmartCollar issues',\n",
        "        'timestamp'\n",
        "    ) as timeline_summary,\n",
        "    SLACK_CHANNEL,\n",
        "    COUNT(*) as message_count\n",
        "FROM slack_data\n",
        "GROUP BY SLACK_CHANNEL;\n"
      ]
    }
  ],
  "metadata": {
    "language_info": {
      "name": "python"
    }
  },
  "nbformat": 4,
  "nbformat_minor": 2
}
